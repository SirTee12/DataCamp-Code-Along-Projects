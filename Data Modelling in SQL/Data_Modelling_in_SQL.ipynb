{
 "cells": [
  {
   "cell_type": "code",
   "execution_count": 2,
   "id": "471dc3e8",
   "metadata": {
    "executionCancelledAt": null,
    "executionTime": 211,
    "lastExecutedAt": 1689087105756,
    "lastScheduledRunId": null,
    "lastSuccessfullyExecutedCode": "# techs used - duckdb for a local dummy database\n# columnar database\nimport duckdb\nimport timeit\nimport pandas as pd"
   },
   "outputs": [],
   "source": [
    "# techs used - duckdb for a local dummy database\n",
    "# columnar database\n",
    "import duckdb\n",
    "import timeit\n",
    "import pandas as pd "
   ]
  },
  {
   "cell_type": "code",
   "execution_count": 3,
   "id": "db8c2ee4",
   "metadata": {
    "executionCancelledAt": null,
    "executionTime": 88,
    "lastExecutedAt": 1689088544431,
    "lastScheduledRunId": null,
    "lastSuccessfullyExecutedCode": "### DDL to instantiate database ###\n\n# create initial database connection (and instantiate database if it doesn't exist already) \ncon = duckdb.connect('dim-model.db')\n\n# create two separate schemas\ncon.sql(\"\"\"\nCREATE SCHEMA snow;\nCREATE SCHEMA star;\n\"\"\")"
   },
   "outputs": [],
   "source": [
    "### DDL to instantiate database ###\n",
    "con = duckdb.connect('dim-model.db')\n",
    "# create initial database connection (and instantiate database if it doesn't exist already) \n",
    "con.sql(\"\"\"\n",
    "CREATE SCHEMA snow;\n",
    "CREATE SCHEMA star;\n",
    "\n",
    "\"\"\")\n",
    "\n"
   ]
  },
  {
   "cell_type": "code",
   "execution_count": null,
   "id": "5a866454-0703-4df1-8cd7-ea67f27b9996",
   "metadata": {},
   "outputs": [],
   "source": [
    "# create two separate schemas\n"
   ]
  },
  {
   "cell_type": "code",
   "execution_count": 3,
   "id": "f91a89ce",
   "metadata": {
    "executionCancelledAt": null,
    "executionTime": 73,
    "lastExecutedAt": 1689088611983,
    "lastScheduledRunId": null,
    "lastSuccessfullyExecutedCode": "# create a table using the initial data - auto create columns based on information\nsql = \"\"\"\nCREATE TABLE raw_companies AS\nSELECT * FROM read_csv_auto('SorensonworkfirmFIVEdata.csv')\n\"\"\"\ncon.sql(sql)"
   },
   "outputs": [],
   "source": [
    "# create a table using the initial data - auto create columns based on information\n"
   ]
  },
  {
   "cell_type": "code",
   "execution_count": 4,
   "id": "9d1f7880-4f4a-4195-9ffc-a4e6b4167cf4",
   "metadata": {
    "executionCancelledAt": null,
    "executionTime": 21,
    "lastExecutedAt": 1689088634027,
    "lastScheduledRunId": null,
    "lastSuccessfullyExecutedCode": "con.table('raw_companies')"
   },
   "outputs": [],
   "source": [
    "# display the raw_companies table\n"
   ]
  },
  {
   "cell_type": "code",
   "execution_count": 5,
   "id": "477f22b8",
   "metadata": {
    "executionCancelledAt": null,
    "executionTime": 50,
    "lastExecutedAt": 1689088676663,
    "lastScheduledRunId": null,
    "lastSuccessfullyExecutedCode": "# verify initial data types\nsql = \"\"\"\nDESCRIBE raw_companies;\n\"\"\"\n\ninitial_cols_dict = {col[0]:col[1] for col in con.sql(sql).fetchall()}"
   },
   "outputs": [],
   "source": [
    "# verify initial data types\n"
   ]
  },
  {
   "cell_type": "code",
   "execution_count": 6,
   "id": "58c64f45",
   "metadata": {
    "executionCancelledAt": null,
    "executionTime": 12,
    "lastExecutedAt": 1689088680209,
    "lastScheduledRunId": null,
    "lastSuccessfullyExecutedCode": "initial_cols_dict"
   },
   "outputs": [],
   "source": [
    "# print the initial columns dictionary\n"
   ]
  },
  {
   "cell_type": "markdown",
   "id": "b0d75458",
   "metadata": {},
   "source": [
    "## A snowflake data model\n",
    "\n",
    "Steps of Kimball dimensional modeling:\n",
    "\n",
    "1. Select the business process\n",
    "2. Declare the grain\n",
    "3. Identify the dimensions\n",
    "4. Identify the facts\n",
    "\n",
    "![](snow.png)\n",
    "\n",
    "There's a step before this:\n",
    "\n",
    "0. Know thy data"
   ]
  },
  {
   "cell_type": "code",
   "execution_count": 7,
   "id": "04c4ea15",
   "metadata": {
    "executionCancelledAt": null,
    "executionTime": 48,
    "lastExecutedAt": 1689088884359,
    "lastScheduledRunId": null,
    "lastSuccessfullyExecutedCode": "# check lat/long/zip data columns\ncon.sql('SELECT DISTINCT lat, lon, zip FROM raw_companies')"
   },
   "outputs": [],
   "source": [
    "# check lat/long/zip data columns\n"
   ]
  },
  {
   "cell_type": "code",
   "execution_count": 9,
   "id": "dea282de",
   "metadata": {
    "executionCancelledAt": null,
    "executionTime": 51,
    "lastExecutedAt": 1689089089387,
    "lastScheduledRunId": null,
    "lastSuccessfullyExecutedCode": "### INITIAL DATA CLEANSING ###\n\n# change column zip to type varchar\nsql = \"\"\"\nALTER TABLE raw_companies ALTER COLUMN zip SET DATA TYPE VARCHAR;\n\"\"\"\n\n# ensure leading 0's present in zip\nsql += \"\"\"\nUPDATE raw_companies\nSET zip = RIGHT('000' || zip, 5);\n\"\"\" \n\n# convert lat/long variables to degrees from radians\nsql += f\"\"\"\nUPDATE raw_companies\nSET lat = DEGREES(lat), lon = DEGREES(lon);\n\"\"\"\n\ncon.sql(sql)"
   },
   "outputs": [],
   "source": [
    "### INITIAL DATA CLEANSING ###\n",
    "\n",
    "# change column zip to type varchar\n",
    "\n",
    "\n",
    "# ensure leading 0's present in zip\n",
    "\n",
    "\n",
    "# convert lat/long variables to degrees from radians\n",
    "\n",
    "\n"
   ]
  },
  {
   "cell_type": "code",
   "execution_count": 10,
   "id": "1a6809f5",
   "metadata": {
    "executionCancelledAt": null,
    "executionTime": 14,
    "lastExecutedAt": 1689089103560,
    "lastScheduledRunId": null,
    "lastSuccessfullyExecutedCode": "# display the results of cleansing\ncon.sql('SELECT DISTINCT lat, lon, zip FROM raw_companies')"
   },
   "outputs": [],
   "source": [
    "# display the results of cleansing\n"
   ]
  },
  {
   "cell_type": "code",
   "execution_count": 12,
   "id": "40e4691e",
   "metadata": {
    "executionCancelledAt": null,
    "executionTime": 51,
    "lastExecutedAt": 1689089363295,
    "lastScheduledRunId": null,
    "lastSuccessfullyExecutedCode": "# set schema\n# templated sql - DRY\nschema = 'snow'"
   },
   "outputs": [],
   "source": [
    "# set schema\n",
    "# templated sql - DRY\n"
   ]
  },
  {
   "cell_type": "code",
   "execution_count": 13,
   "id": "6f74e1c3",
   "metadata": {
    "executionCancelledAt": null,
    "executionTime": 32,
    "lastExecutedAt": 1689089365450,
    "lastScheduledRunId": null,
    "lastSuccessfullyExecutedCode": "# create compustat dimension\n# MD5 hash as keys vs ordered int\n# surrogate vs. natural keys\n# primary keys (collisions)\nsql = f\"\"\"\n\n\nCREATE OR REPLACE TABLE {schema}.compustat (\n    cusip_id VARCHAR,\n    cusip_name VARCHAR,\n    cusip_historical_id VARCHAR,\n    cusip_historical_name VARCHAR,\n    PRIMARY KEY (cusip_id)\n);\n\n\"\"\"\n\nsql += f\"\"\"\nINSERT INTO {schema}.compustat (cusip_id, cusip_name, cusip_historical_id, cusip_historical_name)\nWITH cid AS (\n    SELECT DISTINCT\n        CUSIPHEADERID AS cusip_id,\n        CUSIPHEADERNAME AS cusip_name,\n        CUSIPHISTORYID AS cusip_historical_id,\n        CUSIPHISTORYNAME AS cusip_historical_name\n    FROM\n        raw_companies\n)\nSELECT\n    MD5(COALESCE(cusip_id || cusip_name || cusip_historical_id || cusip_historical_name, '-1')) AS cusip_id, --1 added for nulls\n    cusip_name,\n    cusip_historical_id,\n    cusip_historical_name\nFROM\n    cid;\n\"\"\"\n\ncon.sql(sql)"
   },
   "outputs": [],
   "source": [
    "# create compustat dimension\n",
    "# MD5 hash as keys vs ordered int\n",
    "# surrogate vs. natural keys\n",
    "# primary keys (collisions)\n",
    "sql = f\"\"\"\n",
    "\n",
    "\n",
    "CREATE OR REPLACE TABLE {schema}.compustat (\n",
    "    cusip_id VARCHAR,\n",
    "    cusip_name VARCHAR,\n",
    "    cusip_historical_id VARCHAR,\n",
    "    cusip_historical_name VARCHAR,\n",
    "    PRIMARY KEY (cusip_id)\n",
    ");\n",
    "\n",
    "\"\"\"\n",
    "\n",
    "sql += f\"\"\"\n",
    "INSERT INTO {schema}.compustat (cusip_id, cusip_name, cusip_historical_id, cusip_historical_name)\n",
    "WITH cid AS (\n",
    "    SELECT DISTINCT\n",
    "        CUSIPHEADERID AS cusip_id,\n",
    "        CUSIPHEADERNAME AS cusip_name,\n",
    "        CUSIPHISTORYID AS cusip_historical_id,\n",
    "        CUSIPHISTORYNAME AS cusip_historical_name\n",
    "    FROM\n",
    "        raw_companies\n",
    ")\n",
    "SELECT\n",
    "    MD5(COALESCE(cusip_id || cusip_name || cusip_historical_id || cusip_historical_name, '-1')) AS cusip_id, --1 added for nulls\n",
    "    cusip_name,\n",
    "    cusip_historical_id,\n",
    "    cusip_historical_name\n",
    "FROM\n",
    "    cid;\n",
    "\"\"\"\n",
    "\n",
    "con.sql(sql)\n",
    "\n"
   ]
  },
  {
   "cell_type": "code",
   "execution_count": 14,
   "id": "164c2c08-bb06-478a-a1b3-08a930c57f6f",
   "metadata": {
    "executionCancelledAt": null,
    "executionTime": 50,
    "lastExecutedAt": 1689089393848,
    "lastScheduledRunId": null,
    "lastSuccessfullyExecutedCode": "con.sql('select * from snow.compustat limit 5')"
   },
   "outputs": [],
   "source": [
    "# display the head of the snow.compustat table\n"
   ]
  },
  {
   "cell_type": "code",
   "execution_count": 15,
   "id": "1e0c45df",
   "metadata": {
    "executionCancelledAt": null,
    "executionTime": 51,
    "lastExecutedAt": 1689089542404,
    "lastScheduledRunId": null,
    "lastSuccessfullyExecutedCode": "# create ceo dimension\n# naming conventions\n# joining on strings vs. others\nsql = f\"\"\"\n\nCREATE OR REPLACE TABLE {schema}.ceos (\n    ceo_id VARCHAR,\n    ceo_name VARCHAR,\n    PRIMARY KEY (ceo_id)\n);\n\n\"\"\"\n\nsql += f\"\"\"\n\nINSERT INTO {schema}.ceos (ceo_id, ceo_name)\n\nSELECT DISTINCT\n    MD5(COALESCE(ceo, '-1')) AS ceo_id,\n    ceo AS ceo_name\nFROM\n    raw_companies;\n\n\"\"\"\n\ncon.sql(sql)"
   },
   "outputs": [],
   "source": [
    "# create ceo dimension\n",
    "# naming conventions\n",
    "# joining on strings vs. others\n",
    "sql = f\"\"\"\n",
    "\n",
    "CREATE OR REPLACE TABLE {schema}.ceos (\n",
    "    ceo_id VARCHAR,\n",
    "    ceo_name VARCHAR,\n",
    "    PRIMARY KEY (ceo_id)\n",
    ");\n",
    "\n",
    "\"\"\"\n",
    "\n",
    "sql += f\"\"\"\n",
    "\n",
    "INSERT INTO {schema}.ceos (ceo_id, ceo_name)\n",
    "\n",
    "SELECT DISTINCT\n",
    "    MD5(COALESCE(ceo, '-1')) AS ceo_id,\n",
    "    ceo AS ceo_name\n",
    "FROM\n",
    "    raw_companies;\n",
    "\n",
    "\"\"\"\n",
    "\n",
    "con.sql(sql)"
   ]
  },
  {
   "cell_type": "code",
   "execution_count": 16,
   "id": "b3b1f3e3-f54f-49e2-9f11-99477e9c7bbc",
   "metadata": {
    "executionCancelledAt": null,
    "executionTime": 12,
    "lastExecutedAt": 1689089556128,
    "lastScheduledRunId": null,
    "lastSuccessfullyExecutedCode": "con.table('snow.ceos')"
   },
   "outputs": [],
   "source": [
    "# display the snow.ceos table\n",
    "con.table('snow.ceos')"
   ]
  },
  {
   "cell_type": "code",
   "execution_count": 17,
   "id": "748d493d",
   "metadata": {
    "executionCancelledAt": null,
    "executionTime": 48,
    "lastExecutedAt": 1689089667535,
    "lastScheduledRunId": null,
    "lastSuccessfullyExecutedCode": "# create locations dimension\n# type 2 dimensions - change slow\n# insert only\n# primary keys\nsql = f\"\"\"\n\nCREATE OR REPLACE TABLE {schema}.locations (\n    location_id VARCHAR,\n    zipcode VARCHAR,\n    latitude DOUBLE,\n    longitude DOUBLE,\n    PRIMARY KEY (location_id)\n);\n\n\"\"\"\n\nsql += f\"\"\"\nINSERT INTO {schema}.locations (location_id, zipcode, latitude, longitude)\n\nSELECT DISTINCT\n    MD5(COALESCE(zip || CAST(lat AS VARCHAR) || CAST(lon AS VARCHAR), '-1')),\n    zip,\n    lat,\n    lon\nFROM\n    raw_companies;\n\n\"\"\"\n\ncon.sql(sql)"
   },
   "outputs": [],
   "source": [
    "# create locations dimension\n",
    "# type 2 dimensions - change slow\n",
    "# insert only\n",
    "# primary keys\n",
    "sql = f\"\"\"\n",
    "\n",
    "CREATE OR REPLACE TABLE {schema}.locations (\n",
    "    location_id VARCHAR,\n",
    "    zipcode VARCHAR,\n",
    "    latitude DOUBLE,\n",
    "    longitude DOUBLE,\n",
    "    PRIMARY KEY (location_id)\n",
    ");\n",
    "\n",
    "\"\"\"\n",
    "\n",
    "sql += f\"\"\"\n",
    "INSERT INTO {schema}.locations (location_id, zipcode, latitude, longitude)\n",
    "\n",
    "SELECT DISTINCT\n",
    "    MD5(COALESCE(zip || CAST(lat AS VARCHAR) || CAST(lon AS VARCHAR), '-1')),\n",
    "    zip,\n",
    "    lat,\n",
    "    lon\n",
    "FROM\n",
    "    raw_companies;\n",
    "\n",
    "\"\"\"\n",
    "\n",
    "con.sql(sql)"
   ]
  },
  {
   "cell_type": "code",
   "execution_count": 18,
   "id": "975db7fa",
   "metadata": {
    "executionCancelledAt": null,
    "executionTime": 50,
    "lastExecutedAt": 1689089960795,
    "lastScheduledRunId": null,
    "lastSuccessfullyExecutedCode": "# create companies dimension\n# normalization benefits\n\nsql = f\"\"\"\n\nCREATE OR REPLACE TABLE {schema}.companies (\n    company_id VARCHAR,\n    company_name VARCHAR,\n    cusip_id VARCHAR,\n    ceo_id VARCHAR,\n    founding_year INTEGER,\n    ownership_type VARCHAR,\n    exit_type VARCHAR,\n    exit_comment VARCHAR,\n    location_id VARCHAR,\n    PRIMARY KEY (company_id)\n    \n);\n\n\"\"\"\n\ncon.sql(sql)\n\nsql += f\"\"\"\n\nINSERT INTO {schema}.companies (company_id, company_name, cusip_id, ceo_id, founding_year, ownership_type, exit_type, exit_comment, location_id)\n\nSELECT DISTINCT\n    MD5(COALESCE(   COALESCE(firmname, '-1') ||\n                    COALESCE(CAST(CUSIPHEADERID AS VARCHAR),'-1')||\n                    COALESCE(CAST(firmid AS VARCHAR),'-1')||\n                    COALESCE(CAST(found AS VARCHAR),'-1') ||\n                    COALESCE(CAST(own AS VARCHAR),'-1') ||\n                    COALESCE(CAST(fate AS VARCHAR),'-1') ||\n                    COALESCE(CAST(estate AS VARCHAR),'-1') ||\n                    COALESCE(ceo,'-1') ||\n                    COALESCE(zip,'-1')\n                    , '-1')) as id,\n    firmname,\n    MD5(COALESCE(CUSIPHEADERID || CUSIPHEADERNAME || CUSIPHISTORYID || CUSIPHISTORYNAME, '-1')),\n    MD5(COALESCE(ceo, '-1')),\n    found,\n    CASE own\n        WHEN 0 THEN 'Private'\n        WHEN 1 THEN 'Public'\n        WHEN 2 THEN 'Subsidiary'\n        ELSE NULL END,\n    CASE estate\n        WHEN 0 THEN 'Censored'\n        WHEN 1 THEN 'Exited market'\n        WHEN 2 THEN 'Acquired'\n        WHEN 3 THEN 'Spun off'\n        WHEN 4 THEN 'Changed Name'\n        ELSE NULL END,\n    fate,\n     MD5(COALESCE(zip || CAST(lat AS VARCHAR) || CAST(lon AS VARCHAR), '-1'))\n    \nFROM\n    raw_companies\n\n    ;\n\"\"\"\n\ncon.sql(sql)"
   },
   "outputs": [],
   "source": [
    "# create companies dimension\n",
    "# normalization benefits\n",
    "\n",
    "sql = f\"\"\"\n",
    "\n",
    "CREATE OR REPLACE TABLE {schema}.companies (\n",
    "    company_id VARCHAR,\n",
    "    company_name VARCHAR,\n",
    "    cusip_id VARCHAR,\n",
    "    ceo_id VARCHAR,\n",
    "    founding_year INTEGER,\n",
    "    ownership_type VARCHAR,\n",
    "    exit_type VARCHAR,\n",
    "    exit_comment VARCHAR,\n",
    "    location_id VARCHAR,\n",
    "    PRIMARY KEY (company_id)\n",
    "    \n",
    ");\n",
    "\n",
    "\"\"\"\n",
    "\n",
    "sql += f\"\"\"\n",
    "\n",
    "INSERT INTO {schema}.companies (company_id, company_name, cusip_id, ceo_id, founding_year, ownership_type, exit_type, exit_comment, location_id)\n",
    "\n",
    "SELECT DISTINCT\n",
    "    MD5(COALESCE(   COALESCE(firmname, '-1') ||\n",
    "                    COALESCE(CAST(CUSIPHEADERID AS VARCHAR),'-1')||\n",
    "                    COALESCE(CAST(firmid AS VARCHAR),'-1')||\n",
    "                    COALESCE(CAST(found AS VARCHAR),'-1') ||\n",
    "                    COALESCE(CAST(own AS VARCHAR),'-1') ||\n",
    "                    COALESCE(CAST(fate AS VARCHAR),'-1') ||\n",
    "                    COALESCE(CAST(estate AS VARCHAR),'-1') ||\n",
    "                    COALESCE(ceo,'-1') ||\n",
    "                    COALESCE(zip,'-1')\n",
    "                    , '-1')) as id,\n",
    "    firmname,\n",
    "    MD5(COALESCE(CUSIPHEADERID || CUSIPHEADERNAME || CUSIPHISTORYID || CUSIPHISTORYNAME, '-1')),\n",
    "    MD5(COALESCE(ceo, '-1')),\n",
    "    found,\n",
    "    CASE own\n",
    "        WHEN 0 THEN 'Private'\n",
    "        WHEN 1 THEN 'Public'\n",
    "        WHEN 2 THEN 'Subsidiary'\n",
    "        ELSE NULL END,\n",
    "    CASE estate\n",
    "        WHEN 0 THEN 'Censored'\n",
    "        WHEN 1 THEN 'Exited market'\n",
    "        WHEN 2 THEN 'Acquired'\n",
    "        WHEN 3 THEN 'Spun off'\n",
    "        WHEN 4 THEN 'Changed Name'\n",
    "        ELSE NULL END,\n",
    "    fate,\n",
    "     MD5(COALESCE(zip || CAST(lat AS VARCHAR) || CAST(lon AS VARCHAR), '-1'))\n",
    "    \n",
    "FROM\n",
    "    raw_companies\n",
    "\n",
    "    ;\n",
    "\"\"\"\n",
    "\n",
    "con.sql(sql)\n",
    "\n"
   ]
  },
  {
   "cell_type": "code",
   "execution_count": 19,
   "id": "86493556",
   "metadata": {
    "executionCancelledAt": null,
    "executionTime": 50,
    "lastExecutedAt": 1689090173287,
    "lastScheduledRunId": null,
    "lastSuccessfullyExecutedCode": "# create product_offerings dimension\n# what is a fact vs. a dimension\n# CTE\nsql = f\"\"\"\n\nCREATE OR REPLACE TABLE {schema}.product_offerings (\n    product_offering_id VARCHAR,\n    product_types_offered VARCHAR,\n    PRIMARY KEY (product_offering_id)\n);\n\n\"\"\"\n\nsql += f\"\"\"\n\nINSERT INTO {schema}.product_offerings (product_offering_id, product_types_offered)\n\nWITH po AS (\n     SELECT\n        CASE\n            WHEN system = 1 AND graphic = 0 THEN 'Desktop systems'\n            WHEN system = 0 AND graphic = 1 THEN 'Graphics systems'\n            WHEN system = 1 AND graphic = 1 THEN 'Desktop + Graphics systems'\n            ELSE NULL END as offering\n\n    from raw_companies\n)\nSELECT DISTINCT\n    MD5(COALESCE(offering, '-1')),\n    offering    \nFROM\n    po;\n\"\"\"\n\ncon.sql(sql)"
   },
   "outputs": [],
   "source": [
    "# create product_offerings dimension\n",
    "# what is a fact vs. a dimension\n",
    "# CTE\n",
    "sql = f\"\"\"\n",
    "\n",
    "CREATE OR REPLACE TABLE {schema}.product_offerings (\n",
    "    product_offering_id VARCHAR,\n",
    "    product_types_offered VARCHAR,\n",
    "    PRIMARY KEY (product_offering_id)\n",
    ");\n",
    "\n",
    "\"\"\"\n",
    "\n",
    "sql += f\"\"\"\n",
    "\n",
    "INSERT INTO {schema}.product_offerings (product_offering_id, product_types_offered)\n",
    "\n",
    "WITH po AS (\n",
    "     SELECT\n",
    "        CASE\n",
    "            WHEN system = 1 AND graphic = 0 THEN 'Desktop systems'\n",
    "            WHEN system = 0 AND graphic = 1 THEN 'Graphics systems'\n",
    "            WHEN system = 1 AND graphic = 1 THEN 'Desktop + Graphics systems'\n",
    "            ELSE NULL END as offering\n",
    "\n",
    "    from raw_companies\n",
    ")\n",
    "SELECT DISTINCT\n",
    "    MD5(COALESCE(offering, '-1')),\n",
    "    offering    \n",
    "FROM\n",
    "    po;\n",
    "\"\"\"\n",
    "\n",
    "con.sql(sql)"
   ]
  },
  {
   "cell_type": "code",
   "execution_count": 20,
   "id": "169188d1",
   "metadata": {
    "executionCancelledAt": null,
    "executionTime": 48,
    "lastExecutedAt": 1689090304147,
    "lastScheduledRunId": null,
    "lastSuccessfullyExecutedCode": "# create integration dimension\n# type 4 dimension - change fast\nsql = f\"\"\"\n\nCREATE OR REPLACE TABLE {schema}.integrations (\n   integration_id VARCHAR,\n    cpu_source VARCHAR,\n    os_source VARCHAR,\n    application_source VARCHAR,\n    communications_hardware_source VARCHAR,\n    disk_source VARCHAR,\n    ram_source VARCHAR,\n    motherboard_source VARCHAR,\n    PRIMARY KEY (integration_id)\n);\n\n\"\"\"\n\nsql += f\"\"\"\nINSERT INTO {schema}.integrations\n(\n    integration_id, \n    cpu_source, \n    os_source, \n    application_source, \n    communications_hardware_source, \n    disk_source, \n    ram_source, \n    motherboard_source\n)\n\nSELECT DISTINCT\n    MD5(\n        CASE WHEN cpu = 0 THEN 'Bought' ELSE 'Produced' END || \n        CASE WHEN os = 0 THEN 'Bought' ELSE 'Produced' END || \n        CASE WHEN apps = 0 THEN 'Bought' ELSE 'Produced' END || \n        CASE WHEN comm = 0 THEN 'Bought' ELSE 'Produced' END || \n        CASE WHEN disk = 0 THEN 'Bought' ELSE 'Produced' END || \n        CASE WHEN memory = 0 THEN 'Bought' ELSE 'Produced' END || \n        CASE WHEN board = 0 THEN 'Bought' ELSE 'Produced' END\n    ), \n    CASE WHEN cpu = 0 THEN 'Bought' ELSE 'Produced' END,\n    CASE WHEN os = 0 THEN 'Bought' ELSE 'Produced' END,\n    CASE WHEN apps = 0 THEN 'Bought' ELSE 'Produced' END,\n    CASE WHEN comm = 0 THEN 'Bought' ELSE 'Produced' END,\n    CASE WHEN disk = 0 THEN 'Bought' ELSE 'Produced' END,\n    CASE WHEN memory = 0 THEN 'Bought' ELSE 'Produced' END,\n    CASE WHEN board = 0 THEN 'Bought' ELSE 'Produced' END\nFROM\n    raw_companies;\n\n\n\"\"\"\n\ncon.sql(sql)"
   },
   "outputs": [],
   "source": [
    "# create integration dimension\n",
    "# type 4 dimension - change fast\n",
    "sql = f\"\"\"\n",
    "\n",
    "CREATE OR REPLACE TABLE {schema}.integrations (\n",
    "   integration_id VARCHAR,\n",
    "    cpu_source VARCHAR,\n",
    "    os_source VARCHAR,\n",
    "    application_source VARCHAR,\n",
    "    communications_hardware_source VARCHAR,\n",
    "    disk_source VARCHAR,\n",
    "    ram_source VARCHAR,\n",
    "    motherboard_source VARCHAR,\n",
    "    PRIMARY KEY (integration_id)\n",
    ");\n",
    "\n",
    "\"\"\"\n",
    "\n",
    "sql += f\"\"\"\n",
    "INSERT INTO {schema}.integrations\n",
    "(\n",
    "    integration_id, \n",
    "    cpu_source, \n",
    "    os_source, \n",
    "    application_source, \n",
    "    communications_hardware_source, \n",
    "    disk_source, \n",
    "    ram_source, \n",
    "    motherboard_source\n",
    ")\n",
    "\n",
    "SELECT DISTINCT\n",
    "    MD5(\n",
    "        CASE WHEN cpu = 0 THEN 'Bought' ELSE 'Produced' END || \n",
    "        CASE WHEN os = 0 THEN 'Bought' ELSE 'Produced' END || \n",
    "        CASE WHEN apps = 0 THEN 'Bought' ELSE 'Produced' END || \n",
    "        CASE WHEN comm = 0 THEN 'Bought' ELSE 'Produced' END || \n",
    "        CASE WHEN disk = 0 THEN 'Bought' ELSE 'Produced' END || \n",
    "        CASE WHEN memory = 0 THEN 'Bought' ELSE 'Produced' END || \n",
    "        CASE WHEN board = 0 THEN 'Bought' ELSE 'Produced' END\n",
    "    ), \n",
    "    CASE WHEN cpu = 0 THEN 'Bought' ELSE 'Produced' END,\n",
    "    CASE WHEN os = 0 THEN 'Bought' ELSE 'Produced' END,\n",
    "    CASE WHEN apps = 0 THEN 'Bought' ELSE 'Produced' END,\n",
    "    CASE WHEN comm = 0 THEN 'Bought' ELSE 'Produced' END,\n",
    "    CASE WHEN disk = 0 THEN 'Bought' ELSE 'Produced' END,\n",
    "    CASE WHEN memory = 0 THEN 'Bought' ELSE 'Produced' END,\n",
    "    CASE WHEN board = 0 THEN 'Bought' ELSE 'Produced' END\n",
    "FROM\n",
    "    raw_companies;\n",
    "\n",
    "\n",
    "\"\"\"\n",
    "\n",
    "con.sql(sql)"
   ]
  },
  {
   "cell_type": "code",
   "execution_count": 25,
   "id": "5dff6c0d",
   "metadata": {
    "executionCancelledAt": null,
    "executionTime": 24,
    "lastExecutedAt": 1689090402149,
    "lastScheduledRunId": null,
    "lastSuccessfullyExecutedCode": "### create years table by dynamically assigning values ###\n\n# integer values as key which helps with partitioning.\n# date table's grain goes, other date information\n# CTAS\n\nsql = \"\"\"\nCREATE OR REPLACE TABLE years AS\n\nWITH RECURSIVE years AS (\n    SELECT 1970 as year\n    UNION ALL\n    SELECT year + 1\n    FROM years\n    WHERE year < 2000\n)\nSELECT \n    year,\n    CASE \n        WHEN MOD(year - 1970, 12) = 0 THEN 'Dog'\n        WHEN MOD(year - 1970, 12) = 1 THEN 'Pig'\n        WHEN MOD(year - 1970, 12) = 2 THEN 'Rat'\n        WHEN MOD(year - 1970, 12) = 3 THEN 'Ox'\n        WHEN MOD(year - 1970, 12) = 4 THEN 'Tiger'\n        WHEN MOD(year - 1970, 12) = 5 THEN 'Rabbit'\n        WHEN MOD(year - 1970, 12) = 6 THEN 'Dragon'\n        WHEN MOD(year - 1970, 12) = 7 THEN 'Snake'\n        WHEN MOD(year - 1970, 12) = 8 THEN 'Horse'\n        WHEN MOD(year - 1970, 12) = 9 THEN 'Sheep'\n        WHEN MOD(year - 1970, 12) = 10 THEN 'Monkey'\n        WHEN MOD(year - 1970, 12) = 11 THEN 'Rooster'\n    END as zodiac_type\nFROM years;\n\"\"\"\n\ncon.sql(sql)"
   },
   "outputs": [],
   "source": [
    "### create years table by dynamically assigning values ###\n",
    "\n",
    "# integer values as key which helps with partitioning.\n",
    "# date table's grain goes, other date information\n",
    "# CTAS\n",
    "\n",
    "sql = \"\"\"\n",
    "CREATE OR REPLACE TABLE years AS\n",
    "\n",
    "WITH RECURSIVE years AS (\n",
    "    SELECT 1970 as year\n",
    "    UNION ALL\n",
    "    SELECT year + 1\n",
    "    FROM years\n",
    "    WHERE year < 2000\n",
    ")\n",
    "SELECT \n",
    "    year,\n",
    "    CASE \n",
    "        WHEN MOD(year - 1970, 12) = 0 THEN 'Dog'\n",
    "        WHEN MOD(year - 1970, 12) = 1 THEN 'Pig'\n",
    "        WHEN MOD(year - 1970, 12) = 2 THEN 'Rat'\n",
    "        WHEN MOD(year - 1970, 12) = 3 THEN 'Ox'\n",
    "        WHEN MOD(year - 1970, 12) = 4 THEN 'Tiger'\n",
    "        WHEN MOD(year - 1970, 12) = 5 THEN 'Rabbit'\n",
    "        WHEN MOD(year - 1970, 12) = 6 THEN 'Dragon'\n",
    "        WHEN MOD(year - 1970, 12) = 7 THEN 'Snake'\n",
    "        WHEN MOD(year - 1970, 12) = 8 THEN 'Horse'\n",
    "        WHEN MOD(year - 1970, 12) = 9 THEN 'Sheep'\n",
    "        WHEN MOD(year - 1970, 12) = 10 THEN 'Monkey'\n",
    "        WHEN MOD(year - 1970, 12) = 11 THEN 'Rooster'\n",
    "    END as zodiac_type\n",
    "FROM years;\n",
    "\"\"\"\n",
    "\n",
    "con.sql(sql)"
   ]
  },
  {
   "cell_type": "code",
   "execution_count": null,
   "id": "6ab936ce-3406-4126-8419-34d54aa61474",
   "metadata": {
    "executionCancelledAt": null,
    "executionTime": 47,
    "lastExecutedAt": 1689090407568,
    "lastScheduledRunId": null,
    "lastSuccessfullyExecutedCode": "con.table('snow.years')"
   },
   "outputs": [],
   "source": [
    "# display the snow.years table\n"
   ]
  },
  {
   "cell_type": "markdown",
   "id": "e37f2ac5",
   "metadata": {},
   "source": [
    "### making the fact table"
   ]
  },
  {
   "cell_type": "code",
   "execution_count": 27,
   "id": "cfcea844",
   "metadata": {
    "executionCancelledAt": null,
    "executionTime": 52,
    "lastExecutedAt": 1689090502739,
    "lastScheduledRunId": null,
    "lastSuccessfullyExecutedCode": "# create workstation_sales table\n# additive facts vs. non-additive\n\nsql = f\"\"\"\n\nCREATE OR REPLACE TABLE {schema}.workstation_sales (\n   year_id INTEGER,\n    company_id VARCHAR,\n    integration_id VARCHAR,\n    product_offering_id VARCHAR,\n    sales DOUBLE,\n    research_budget DOUBLE,\n    employee_count DOUBLE,\n    product_offering_count INTEGER,\n    product_category_count INTEGER,\n);\n\n\"\"\"\n\ncon.sql(sql)\n\nsql += f\"\"\"\n\nINSERT INTO {schema}.workstation_sales \n   (year_id,\n    company_id ,\n    integration_id ,\n    product_offering_id ,\n    sales ,\n    research_budget ,\n    employee_count ,\n    product_offering_count ,\n    product_category_count\n    )\n\nSELECT\n    year,\n    MD5(COALESCE(   COALESCE(firmname, '-1') ||\n                    COALESCE(CAST(CUSIPHEADERID AS VARCHAR),'-1')||\n                    COALESCE(CAST(firmid AS VARCHAR),'-1')||\n                    COALESCE(CAST(found AS VARCHAR),'-1') ||\n                    COALESCE(CAST(own AS VARCHAR),'-1') ||\n                    COALESCE(CAST(fate AS VARCHAR),'-1') ||\n                    COALESCE(CAST(estate AS VARCHAR),'-1') ||\n                    COALESCE(ceo,'-1') ||\n                    COALESCE(zip,'-1')\n                    , '-1')) as id,\n\n    MD5(\n        CASE WHEN cpu = 0 THEN 'Bought' ELSE 'Produced' END || \n        CASE WHEN os = 0 THEN 'Bought' ELSE 'Produced' END || \n        CASE WHEN apps = 0 THEN 'Bought' ELSE 'Produced' END || \n        CASE WHEN comm = 0 THEN 'Bought' ELSE 'Produced' END || \n        CASE WHEN disk = 0 THEN 'Bought' ELSE 'Produced' END || \n        CASE WHEN memory = 0 THEN 'Bought' ELSE 'Produced' END || \n        CASE WHEN board = 0 THEN 'Bought' ELSE 'Produced' END\n    ),\n    \n    MD5(COALESCE(\n        CASE\n            WHEN system = 1 AND graphic = 0 THEN 'Desktop systems'\n            WHEN system = 0 AND graphic = 1 THEN 'Graphics systems'\n            WHEN system = 1 AND graphic = 1 THEN 'Desktop + Graphics systems'\n            ELSE NULL END,\n        '-1'\n    )),\n    \n    sales,\n    randd,\n    employ,\n    products,\n    ptypes\n    \n    \nFROM\n    raw_companies\n    ;\n\n\"\"\"\n\ncon.sql(sql)"
   },
   "outputs": [],
   "source": [
    "# create workstation_sales table\n",
    "# additive facts vs. non-additive\n",
    "\n",
    "sql = f\"\"\"\n",
    "\n",
    "CREATE OR REPLACE TABLE {schema}.workstation_sales (\n",
    "   year_id INTEGER,\n",
    "    company_id VARCHAR,\n",
    "    integration_id VARCHAR,\n",
    "    product_offering_id VARCHAR,\n",
    "    sales DOUBLE,\n",
    "    research_budget DOUBLE,\n",
    "    employee_count DOUBLE,\n",
    "    product_offering_count INTEGER,\n",
    "    product_category_count INTEGER,\n",
    ");\n",
    "\n",
    "\"\"\"\n",
    "\n",
    "con.sql(sql)\n",
    "\n",
    "sql += f\"\"\"\n",
    "\n",
    "INSERT INTO {schema}.workstation_sales \n",
    "   (year_id,\n",
    "    company_id ,\n",
    "    integration_id ,\n",
    "    product_offering_id ,\n",
    "    sales ,\n",
    "    research_budget ,\n",
    "    employee_count ,\n",
    "    product_offering_count ,\n",
    "    product_category_count\n",
    "    )\n",
    "\n",
    "SELECT\n",
    "    year,\n",
    "    MD5(COALESCE(   COALESCE(firmname, '-1') ||\n",
    "                    COALESCE(CAST(CUSIPHEADERID AS VARCHAR),'-1')||\n",
    "                    COALESCE(CAST(firmid AS VARCHAR),'-1')||\n",
    "                    COALESCE(CAST(found AS VARCHAR),'-1') ||\n",
    "                    COALESCE(CAST(own AS VARCHAR),'-1') ||\n",
    "                    COALESCE(CAST(fate AS VARCHAR),'-1') ||\n",
    "                    COALESCE(CAST(estate AS VARCHAR),'-1') ||\n",
    "                    COALESCE(ceo,'-1') ||\n",
    "                    COALESCE(zip,'-1')\n",
    "                    , '-1')) as id,\n",
    "\n",
    "    MD5(\n",
    "        CASE WHEN cpu = 0 THEN 'Bought' ELSE 'Produced' END || \n",
    "        CASE WHEN os = 0 THEN 'Bought' ELSE 'Produced' END || \n",
    "        CASE WHEN apps = 0 THEN 'Bought' ELSE 'Produced' END || \n",
    "        CASE WHEN comm = 0 THEN 'Bought' ELSE 'Produced' END || \n",
    "        CASE WHEN disk = 0 THEN 'Bought' ELSE 'Produced' END || \n",
    "        CASE WHEN memory = 0 THEN 'Bought' ELSE 'Produced' END || \n",
    "        CASE WHEN board = 0 THEN 'Bought' ELSE 'Produced' END\n",
    "    ),\n",
    "    \n",
    "    MD5(COALESCE(\n",
    "        CASE\n",
    "            WHEN system = 1 AND graphic = 0 THEN 'Desktop systems'\n",
    "            WHEN system = 0 AND graphic = 1 THEN 'Graphics systems'\n",
    "            WHEN system = 1 AND graphic = 1 THEN 'Desktop + Graphics systems'\n",
    "            ELSE NULL END,\n",
    "        '-1'\n",
    "    )),\n",
    "    \n",
    "    sales,\n",
    "    randd,\n",
    "    employ,\n",
    "    products,\n",
    "    ptypes\n",
    "    \n",
    "    \n",
    "FROM\n",
    "    raw_companies\n",
    "    ;\n",
    "\n",
    "\"\"\"\n",
    "\n",
    "con.sql(sql)"
   ]
  },
  {
   "cell_type": "code",
   "execution_count": 30,
   "id": "b7363459",
   "metadata": {
    "executionCancelledAt": null,
    "executionTime": 50,
    "lastExecutedAt": 1689090569732,
    "lastScheduledRunId": null,
    "lastSuccessfullyExecutedCode": "# con.sql('select count(*) from workstation_snowflake.workstation_sales a join workstation_snowflake.companies b on a.company_id = b.company_id')\n\n# con.sql('select count(*) from workstation_snowflake.workstation_sales a join workstation_snowflake.integrations b on a.integration_id = b.integration_id')\n\n# con.sql('select count(*) from workstation_snowflake.companies') # 388\n\n# con.sql(\"select 'locations', count(*) from workstation_snowflake.companies c join workstation_snowflake.locations l on c.location_id = l.location_id\")\n\ncon.sql(\"select 'locations', count(*) from snow.companies c join snow.compustat s on c.cusip_id = s.cusip_id\")\n\n# con.sql(\"select 'locations', count(*) from workstation_snowflake.companies c join workstation_snowflake.ceos s on c.ceo_id = s.ceo_id\")\n\n# con.sql('select company_name, c.location_id, l.location_id from workstation_snowflake.companies c left join workstation_snowflake.locations l on c.location_id = l.location_id')\n\n# con.sql('select count(*) from raw_companies')"
   },
   "outputs": [],
   "source": [
    "# con.sql('select count(*) from workstation_snowflake.workstation_sales a join workstation_snowflake.companies b on a.company_id = b.company_id')\n",
    "\n",
    "# con.sql('select count(*) from workstation_snowflake.workstation_sales a join workstation_snowflake.integrations b on a.integration_id = b.integration_id')\n",
    "\n",
    "# con.sql('select count(*) from workstation_snowflake.companies') # 388\n",
    "\n",
    "# con.sql(\"select 'locations', count(*) from workstation_snowflake.companies c join workstation_snowflake.locations l on c.location_id = l.location_id\")\n",
    "\n",
    "con.sql(\"select 'locations', count(*) from snow.companies c join snow.compustat s on c.cusip_id = s.cusip_id\")\n",
    "\n",
    "# con.sql(\"select 'locations', count(*) from workstation_snowflake.companies c join workstation_snowflake.ceos s on c.ceo_id = s.ceo_id\")\n",
    "\n",
    "# con.sql('select company_name, c.location_id, l.location_id from workstation_snowflake.companies c left join workstation_snowflake.locations l on c.location_id = l.location_id')\n",
    "\n",
    "# con.sql('select count(*) from raw_companies')"
   ]
  },
  {
   "cell_type": "markdown",
   "id": "6b7d3c1e",
   "metadata": {},
   "source": [
    "## A star data model\n",
    "\n",
    "Steps of Kimball dimensional modeling:\n",
    "\n",
    "1. Select the business process\n",
    "2. Declare the grain\n",
    "3. Identify the dimensions\n",
    "4. Identify the facts\n",
    "\n",
    "![](star.png)"
   ]
  },
  {
   "cell_type": "code",
   "execution_count": 31,
   "id": "bc4696a9",
   "metadata": {
    "executionCancelledAt": null,
    "executionTime": 48,
    "lastExecutedAt": 1689090629923,
    "lastScheduledRunId": null,
    "lastSuccessfullyExecutedCode": "# update schema\nschema = 'star'"
   },
   "outputs": [],
   "source": [
    "# update schema\n"
   ]
  },
  {
   "cell_type": "code",
   "execution_count": 32,
   "id": "e0fa2005",
   "metadata": {
    "executionCancelledAt": null,
    "executionTime": 51,
    "lastExecutedAt": 1689090688313,
    "lastScheduledRunId": null,
    "lastSuccessfullyExecutedCode": "# make new companies attribute which contains\n# pros/cons of denormalizing to star\nsql = f\"\"\"\n\nCREATE OR REPLACE TABLE {schema}.companies (\n       company_id VARCHAR,\n    company_name VARCHAR,\n    cusip_id VARCHAR,\n    cusip_name VARCHAR,\n    cusip_historical_id VARCHAR,\n    cusip_historical_name VARCHAR,\n    ceo_name VARCHAR,\n    founding_year INTEGER,\n    ownership_type VARCHAR,\n    exit_type VARCHAR,\n    exit_comment VARCHAR,\n    zipcode VARCHAR,\n    latitude DOUBLE,\n    longitude DOUBLE,\n    PRIMARY KEY (company_id),\n);\n\n\"\"\"\n\ncon.sql(sql)\n\nsql += f\"\"\"\n\nINSERT INTO {schema}.companies (\n    company_id ,\n    company_name ,\n    cusip_id ,\n    cusip_name ,\n    cusip_historical_id ,\n    cusip_historical_name ,\n    ceo_name ,\n    founding_year ,\n    ownership_type ,\n    exit_type ,\n    exit_comment ,\n    zipcode ,\n    latitude ,\n    longitude )\n\nSELECT DISTINCT\n    MD5(COALESCE(   COALESCE(firmname, '-1') ||\n                    COALESCE(CAST(CUSIPHEADERID AS VARCHAR),'-1')||\n                    COALESCE(CAST(firmid AS VARCHAR),'-1')||\n                    COALESCE(CAST(found AS VARCHAR),'-1') ||\n                    COALESCE(CAST(own AS VARCHAR),'-1') ||\n                    COALESCE(CAST(fate AS VARCHAR),'-1') ||\n                    COALESCE(CAST(estate AS VARCHAR),'-1') ||\n                    COALESCE(ceo,'-1') ||\n                    COALESCE(zip,'-1')\n                    , '-1')) as id,\n    firmname,\n    CUSIPHEADERID,\n    CUSIPHeaderName,\n    CUSIPHISTORYID,\n    CUSIPHistoryName,\n    ceo,\n    found,\n    CASE own\n        WHEN 0 THEN 'Private'\n        WHEN 1 THEN 'Public'\n        WHEN 2 THEN 'Subsidiary'\n        ELSE NULL END,\n    CASE estate\n        WHEN 0 THEN 'Censored'\n        WHEN 1 THEN 'Exited market'\n        WHEN 2 THEN 'Acquired'\n        WHEN 3 THEN 'Spun off'\n        WHEN 4 THEN 'Changed Name'\n        ELSE NULL END,\n    fate,\n    ZIP,\n    lat,\n    lon\n    \nFROM\n    raw_companies;\n\"\"\"\n\ncon.sql(sql)"
   },
   "outputs": [],
   "source": [
    "# make new companies attribute which contains\n",
    "# pros/cons of denormalizing to star\n",
    "sql = f\"\"\"\n",
    "\n",
    "CREATE OR REPLACE TABLE {schema}.companies (\n",
    "       company_id VARCHAR,\n",
    "    company_name VARCHAR,\n",
    "    cusip_id VARCHAR,\n",
    "    cusip_name VARCHAR,\n",
    "    cusip_historical_id VARCHAR,\n",
    "    cusip_historical_name VARCHAR,\n",
    "    ceo_name VARCHAR,\n",
    "    founding_year INTEGER,\n",
    "    ownership_type VARCHAR,\n",
    "    exit_type VARCHAR,\n",
    "    exit_comment VARCHAR,\n",
    "    zipcode VARCHAR,\n",
    "    latitude DOUBLE,\n",
    "    longitude DOUBLE,\n",
    "    PRIMARY KEY (company_id),\n",
    ");\n",
    "\n",
    "\"\"\"\n",
    "\n",
    "con.sql(sql)\n",
    "\n",
    "sql += f\"\"\"\n",
    "\n",
    "INSERT INTO {schema}.companies (\n",
    "    company_id ,\n",
    "    company_name ,\n",
    "    cusip_id ,\n",
    "    cusip_name ,\n",
    "    cusip_historical_id ,\n",
    "    cusip_historical_name ,\n",
    "    ceo_name ,\n",
    "    founding_year ,\n",
    "    ownership_type ,\n",
    "    exit_type ,\n",
    "    exit_comment ,\n",
    "    zipcode ,\n",
    "    latitude ,\n",
    "    longitude )\n",
    "\n",
    "SELECT DISTINCT\n",
    "    MD5(COALESCE(   COALESCE(firmname, '-1') ||\n",
    "                    COALESCE(CAST(CUSIPHEADERID AS VARCHAR),'-1')||\n",
    "                    COALESCE(CAST(firmid AS VARCHAR),'-1')||\n",
    "                    COALESCE(CAST(found AS VARCHAR),'-1') ||\n",
    "                    COALESCE(CAST(own AS VARCHAR),'-1') ||\n",
    "                    COALESCE(CAST(fate AS VARCHAR),'-1') ||\n",
    "                    COALESCE(CAST(estate AS VARCHAR),'-1') ||\n",
    "                    COALESCE(ceo,'-1') ||\n",
    "                    COALESCE(zip,'-1')\n",
    "                    , '-1')) as id,\n",
    "    firmname,\n",
    "    CUSIPHEADERID,\n",
    "    CUSIPHeaderName,\n",
    "    CUSIPHISTORYID,\n",
    "    CUSIPHistoryName,\n",
    "    ceo,\n",
    "    found,\n",
    "    CASE own\n",
    "        WHEN 0 THEN 'Private'\n",
    "        WHEN 1 THEN 'Public'\n",
    "        WHEN 2 THEN 'Subsidiary'\n",
    "        ELSE NULL END,\n",
    "    CASE estate\n",
    "        WHEN 0 THEN 'Censored'\n",
    "        WHEN 1 THEN 'Exited market'\n",
    "        WHEN 2 THEN 'Acquired'\n",
    "        WHEN 3 THEN 'Spun off'\n",
    "        WHEN 4 THEN 'Changed Name'\n",
    "        ELSE NULL END,\n",
    "    fate,\n",
    "    ZIP,\n",
    "    lat,\n",
    "    lon\n",
    "    \n",
    "FROM\n",
    "    raw_companies;\n",
    "\"\"\"\n",
    "\n",
    "con.sql(sql)"
   ]
  },
  {
   "cell_type": "code",
   "execution_count": null,
   "id": "fbb73bca",
   "metadata": {},
   "outputs": [],
   "source": [
    "# inner join the count of workstation_snowflake.workstation_sales to star.companies by company ID\n",
    "con.sql(\"\"\"\n",
    "select count(*) \n",
    "    from workstation_snowflake.workstation_sales a \n",
    "    join star.companies b \n",
    "        on a.company_id = b.company_id\n",
    "\"\"\")"
   ]
  },
  {
   "cell_type": "markdown",
   "id": "36c410ee",
   "metadata": {},
   "source": [
    "### Some query testing"
   ]
  },
  {
   "cell_type": "code",
   "execution_count": 33,
   "id": "cee590b9",
   "metadata": {
    "executionCancelledAt": null,
    "executionTime": 46,
    "lastExecutedAt": 1689090721168,
    "lastScheduledRunId": null,
    "lastSuccessfullyExecutedCode": "con.sql(\"\"\"\nselect zipcode, sum(sales) \nfrom snow.workstation_sales a \njoin snow.companies c on a.company_id=c.company_id\njoin snow.locations l on c.location_id=l.location_id\ngroup by 1 order by 2 desc\"\"\")"
   },
   "outputs": [],
   "source": [
    "# Select the zipcode and sum of sales \n",
    "# from snow.workstation_sales\n",
    "# inner join to snow.companies on company ID\n",
    "# inner join to snow.locations on location ID\n",
    "# group by 1st column\n",
    "# order by 2nd column in descending order\n"
   ]
  },
  {
   "cell_type": "code",
   "execution_count": 34,
   "id": "8cb2af57",
   "metadata": {
    "executionCancelledAt": null,
    "executionTime": 50,
    "lastExecutedAt": 1689090746904,
    "lastScheduledRunId": null,
    "lastSuccessfullyExecutedCode": "con.sql(\"\"\"\nselect zipcode, sum(sales) \nfrom snow.workstation_sales a \njoin star.companies c on a.company_id=c.company_id\ngroup by 1 order by 2 desc\"\"\")"
   },
   "outputs": [],
   "source": [
    "# Select the zipcode and sum of sales \n",
    "# from snow.workstation_sales\n",
    "# inner join to snow.companies on company ID\n",
    "# group by 1st column\n",
    "# order by 2nd column in descending order\n"
   ]
  },
  {
   "cell_type": "code",
   "execution_count": 35,
   "id": "881516e0",
   "metadata": {
    "executionCancelledAt": null,
    "executionTime": 59,
    "lastExecutedAt": 1689090771336,
    "lastScheduledRunId": null,
    "lastSuccessfullyExecutedCode": "%%timeit -n 10\n\ncon.sql(\"\"\"\nselect zipcode, sum(sales) \nfrom snow.workstation_sales a \njoin snow.companies c on a.company_id=c.company_id\njoin snow.locations l on c.location_id=l.location_id\ngroup by 1 order by 2 desc\"\"\")",
    "outputsMetadata": {
     "0": {
      "height": 37,
      "type": "stream"
     }
    }
   },
   "outputs": [],
   "source": [
    "%%timeit -n 10\n",
    "\n",
    "con.sql(\"\"\"\n",
    "select zipcode, sum(sales) \n",
    "from snow.workstation_sales a \n",
    "join snow.companies c on a.company_id=c.company_id\n",
    "join snow.locations l on c.location_id=l.location_id\n",
    "group by 1 order by 2 desc\"\"\")"
   ]
  },
  {
   "cell_type": "code",
   "execution_count": 37,
   "id": "266cbad2",
   "metadata": {
    "executionCancelledAt": null,
    "executionTime": 21,
    "lastExecutedAt": 1689090792300,
    "lastScheduledRunId": null,
    "lastSuccessfullyExecutedCode": "%%timeit -n 10\n\ncon.sql(\"\"\"\nselect zipcode, sum(sales) \nfrom snow.workstation_sales a \njoin star.companies c on a.company_id=c.company_id\ngroup by 1 order by 1 desc\"\"\")",
    "outputsMetadata": {
     "0": {
      "height": 37,
      "type": "stream"
     }
    }
   },
   "outputs": [],
   "source": [
    "%%timeit -n 10\n",
    "\n",
    "con.sql(\"\"\"\n",
    "select zipcode, sum(sales) \n",
    "from snow.workstation_sales a \n",
    "join star.companies c on a.company_id=c.company_id\n",
    "group by 1 order by 1 desc\"\"\")"
   ]
  }
 ],
 "metadata": {
  "editor": "DataCamp Workspace",
  "kernelspec": {
   "display_name": "Python 3 (ipykernel)",
   "language": "python",
   "name": "python3"
  },
  "language_info": {
   "codemirror_mode": {
    "name": "ipython",
    "version": 3
   },
   "file_extension": ".py",
   "mimetype": "text/x-python",
   "name": "python",
   "nbconvert_exporter": "python",
   "pygments_lexer": "ipython3",
   "version": "3.10.9"
  }
 },
 "nbformat": 4,
 "nbformat_minor": 5
}
