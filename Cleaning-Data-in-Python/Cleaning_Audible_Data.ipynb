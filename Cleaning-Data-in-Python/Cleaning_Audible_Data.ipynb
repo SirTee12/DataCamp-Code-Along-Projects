{
 "cells": [
  {
   "cell_type": "code",
   "execution_count": 2,
   "id": "d0eb4f16-5a99-460d-a5ba-706b7ef0bbe7",
   "metadata": {
    "executionCancelledAt": null,
    "executionTime": 3644,
    "id": "bA5ajAmk7XH6",
    "lastExecutedAt": 1713338823346,
    "lastExecutedByKernel": "0b4e199c-cbea-4b50-aa14-6c04c34e1957",
    "lastScheduledRunId": null,
    "lastSuccessfullyExecutedCode": "# Import libraries\nimport pandas as pd\nimport numpy as np\nimport matplotlib.pyplot as plt"
   },
   "outputs": [],
   "source": [
    "# Import libraries\n",
    "import pandas as pd\n",
    "import numpy as np\n",
    "import matplotlib.pyplot as plt\n"
   ]
  },
  {
   "cell_type": "markdown",
   "id": "0a7e03e3-23d7-4e83-9965-40f526f2d9ec",
   "metadata": {},
   "source": [
    "## Task 1: Loading and Inspecting the Data\n",
    "\n",
    "We will be working with a dataset of audiobooks downloaded from audible.in from 1998 to 2025 (pre-planned releases). [Source](https://www.kaggle.com/datasets/snehangsude/audible-dataset)\n",
    "\n",
    "The first thing we will do is load the raw audible data.\n",
    "\n",
    "### Instructions:\n",
    "* Using pandas, read the `audible_raw.csv` file that is located inside the `data` folder in our local directory. Assign to `audible`.\n",
    "* Show the first few rows of the `audible` data frame."
   ]
  },
  {
   "cell_type": "code",
   "execution_count": 3,
   "id": "d11e4c3e-94ec-4ba7-a492-3f3211ba274c",
   "metadata": {
    "executionCancelledAt": null,
    "executionTime": 235,
    "lastExecutedAt": 1713277141320,
    "lastExecutedByKernel": "f60a79ac-f989-4bac-9822-f4321732927a",
    "lastScheduledRunId": null,
    "lastSuccessfullyExecutedCode": "# Load the audible_raw.csv file\naudible = pd.read_csv('data/audible_raw.csv')\n# View the first rows of the dataframe\naudible.head()",
    "outputsMetadata": {
     "0": {
      "height": 212,
      "type": "dataFrame"
     }
    }
   },
   "outputs": [
    {
     "data": {
      "text/html": [
       "<div>\n",
       "<style scoped>\n",
       "    .dataframe tbody tr th:only-of-type {\n",
       "        vertical-align: middle;\n",
       "    }\n",
       "\n",
       "    .dataframe tbody tr th {\n",
       "        vertical-align: top;\n",
       "    }\n",
       "\n",
       "    .dataframe thead th {\n",
       "        text-align: right;\n",
       "    }\n",
       "</style>\n",
       "<table border=\"1\" class=\"dataframe\">\n",
       "  <thead>\n",
       "    <tr style=\"text-align: right;\">\n",
       "      <th></th>\n",
       "      <th>name</th>\n",
       "      <th>author</th>\n",
       "      <th>narrator</th>\n",
       "      <th>time</th>\n",
       "      <th>releasedate</th>\n",
       "      <th>language</th>\n",
       "      <th>stars</th>\n",
       "      <th>price</th>\n",
       "    </tr>\n",
       "  </thead>\n",
       "  <tbody>\n",
       "    <tr>\n",
       "      <th>0</th>\n",
       "      <td>Geronimo Stilton #11 &amp; #12</td>\n",
       "      <td>Writtenby:GeronimoStilton</td>\n",
       "      <td>Narratedby:BillLobely</td>\n",
       "      <td>2 hrs and 20 mins</td>\n",
       "      <td>04-08-08</td>\n",
       "      <td>English</td>\n",
       "      <td>5 out of 5 stars34 ratings</td>\n",
       "      <td>468.00</td>\n",
       "    </tr>\n",
       "    <tr>\n",
       "      <th>1</th>\n",
       "      <td>The Burning Maze</td>\n",
       "      <td>Writtenby:RickRiordan</td>\n",
       "      <td>Narratedby:RobbieDaymond</td>\n",
       "      <td>13 hrs and 8 mins</td>\n",
       "      <td>01-05-18</td>\n",
       "      <td>English</td>\n",
       "      <td>4.5 out of 5 stars41 ratings</td>\n",
       "      <td>820.00</td>\n",
       "    </tr>\n",
       "    <tr>\n",
       "      <th>2</th>\n",
       "      <td>The Deep End</td>\n",
       "      <td>Writtenby:JeffKinney</td>\n",
       "      <td>Narratedby:DanRussell</td>\n",
       "      <td>2 hrs and 3 mins</td>\n",
       "      <td>06-11-20</td>\n",
       "      <td>English</td>\n",
       "      <td>4.5 out of 5 stars38 ratings</td>\n",
       "      <td>410.00</td>\n",
       "    </tr>\n",
       "    <tr>\n",
       "      <th>3</th>\n",
       "      <td>Daughter of the Deep</td>\n",
       "      <td>Writtenby:RickRiordan</td>\n",
       "      <td>Narratedby:SoneelaNankani</td>\n",
       "      <td>11 hrs and 16 mins</td>\n",
       "      <td>05-10-21</td>\n",
       "      <td>English</td>\n",
       "      <td>4.5 out of 5 stars12 ratings</td>\n",
       "      <td>615.00</td>\n",
       "    </tr>\n",
       "    <tr>\n",
       "      <th>4</th>\n",
       "      <td>The Lightning Thief: Percy Jackson, Book 1</td>\n",
       "      <td>Writtenby:RickRiordan</td>\n",
       "      <td>Narratedby:JesseBernstein</td>\n",
       "      <td>10 hrs</td>\n",
       "      <td>13-01-10</td>\n",
       "      <td>English</td>\n",
       "      <td>4.5 out of 5 stars181 ratings</td>\n",
       "      <td>820.00</td>\n",
       "    </tr>\n",
       "  </tbody>\n",
       "</table>\n",
       "</div>"
      ],
      "text/plain": [
       "                                         name                     author  \\\n",
       "0                  Geronimo Stilton #11 & #12  Writtenby:GeronimoStilton   \n",
       "1                            The Burning Maze      Writtenby:RickRiordan   \n",
       "2                                The Deep End       Writtenby:JeffKinney   \n",
       "3                        Daughter of the Deep      Writtenby:RickRiordan   \n",
       "4  The Lightning Thief: Percy Jackson, Book 1      Writtenby:RickRiordan   \n",
       "\n",
       "                    narrator                time releasedate language  \\\n",
       "0      Narratedby:BillLobely   2 hrs and 20 mins    04-08-08  English   \n",
       "1   Narratedby:RobbieDaymond   13 hrs and 8 mins    01-05-18  English   \n",
       "2      Narratedby:DanRussell    2 hrs and 3 mins    06-11-20  English   \n",
       "3  Narratedby:SoneelaNankani  11 hrs and 16 mins    05-10-21  English   \n",
       "4  Narratedby:JesseBernstein              10 hrs    13-01-10  English   \n",
       "\n",
       "                           stars   price  \n",
       "0     5 out of 5 stars34 ratings  468.00  \n",
       "1   4.5 out of 5 stars41 ratings  820.00  \n",
       "2   4.5 out of 5 stars38 ratings  410.00  \n",
       "3   4.5 out of 5 stars12 ratings  615.00  \n",
       "4  4.5 out of 5 stars181 ratings  820.00  "
      ]
     },
     "execution_count": 3,
     "metadata": {},
     "output_type": "execute_result"
    }
   ],
   "source": [
    "# Load the audible_raw.csv file\n",
    "audible = pd.read_csv('audible_raw.csv')\n",
    "# View the first rows of the dataframe\n",
    "audible.head()"
   ]
  },
  {
   "cell_type": "markdown",
   "id": "0e5fec85-ae7b-4c7b-a8b9-7e8cf47b1bcb",
   "metadata": {},
   "source": [
    "### 💾 The data\n",
    "\n",
    "- \"name\" - The name of the audiobook.\n",
    "- \"author\" - The audiobook's author.\n",
    "- \"narrator\" - The audiobook's narrator.\n",
    "- \"time\" -  The audiobook's duration, in hours and minutes.\n",
    "- \"releasedate\" -  The date the audiobook was published.\n",
    "- \"language\" -  The audiobook's language.\n",
    "- \"stars\" -  The average number of stars (out of 5) and the number of ratings (if available).\n",
    "- \"price\" -  The audiobook's price in INR (Indian Rupee)."
   ]
  },
  {
   "cell_type": "markdown",
   "id": "b34a10b0-67fe-402f-b4aa-24577d0857fa",
   "metadata": {},
   "source": [
    " We can use the `.info()` method to inspect the data types of the columns"
   ]
  },
  {
   "cell_type": "code",
   "execution_count": 4,
   "id": "00ecf8cb-a271-4dbd-b08d-bd3b187964b2",
   "metadata": {
    "executionCancelledAt": null,
    "executionTime": 91,
    "lastExecutedAt": 1713277144092,
    "lastExecutedByKernel": "f60a79ac-f989-4bac-9822-f4321732927a",
    "lastScheduledRunId": null,
    "lastSuccessfullyExecutedCode": "# Inspect the columns' data types\naudible.info()",
    "outputsMetadata": {
     "0": {
      "height": 332,
      "type": "stream"
     }
    }
   },
   "outputs": [
    {
     "name": "stdout",
     "output_type": "stream",
     "text": [
      "<class 'pandas.core.frame.DataFrame'>\n",
      "RangeIndex: 87489 entries, 0 to 87488\n",
      "Data columns (total 8 columns):\n",
      " #   Column       Non-Null Count  Dtype \n",
      "---  ------       --------------  ----- \n",
      " 0   name         87489 non-null  object\n",
      " 1   author       87489 non-null  object\n",
      " 2   narrator     87489 non-null  object\n",
      " 3   time         87489 non-null  object\n",
      " 4   releasedate  87489 non-null  object\n",
      " 5   language     87489 non-null  object\n",
      " 6   stars        87489 non-null  object\n",
      " 7   price        87489 non-null  object\n",
      "dtypes: object(8)\n",
      "memory usage: 5.3+ MB\n"
     ]
    }
   ],
   "source": [
    "# Inspect the columns' data types\n",
    "audible.info()"
   ]
  },
  {
   "cell_type": "markdown",
   "id": "47940552-2d24-40f5-8a87-153abc54e9d9",
   "metadata": {},
   "source": [
    "## Task 2: Clean text data in Author and Narrator columns\n",
    "\n",
    "We will start cleaning some of the text columns like `author` and `narrator`. We can remove the `Writtenby:` and `Narratedby:` portions of the text in those columns.\n",
    "\n",
    "For this, we will use the `.str.replace()` method\n",
    "\n",
    "### Instructions:\n",
    "* Remove 'Writtenby:' from the `author` column\n",
    "* Remove 'Narratedby:' from the `narrator` column\n",
    "* Check the results"
   ]
  },
  {
   "cell_type": "code",
   "execution_count": 5,
   "id": "f6eacd20-36df-4841-9cdc-034c93477ff3",
   "metadata": {
    "executionCancelledAt": null,
    "executionTime": 131,
    "lastExecutedAt": 1713277146760,
    "lastExecutedByKernel": "f60a79ac-f989-4bac-9822-f4321732927a",
    "lastScheduledRunId": null,
    "lastSuccessfullyExecutedCode": "# Remove Writtenby: from the author column\naudible['author'] = audible['author'].str.replace('Writtenby:', '')\n# Remove Narratedby: from the narrator column\naudible['narrator'] = audible['narrator'].str.replace('Narratedby:', '')\n# Check the results\naudible.head(10)",
    "outputsMetadata": {
     "0": {
      "height": 336,
      "type": "dataFrame"
     }
    }
   },
   "outputs": [
    {
     "data": {
      "text/html": [
       "<div>\n",
       "<style scoped>\n",
       "    .dataframe tbody tr th:only-of-type {\n",
       "        vertical-align: middle;\n",
       "    }\n",
       "\n",
       "    .dataframe tbody tr th {\n",
       "        vertical-align: top;\n",
       "    }\n",
       "\n",
       "    .dataframe thead th {\n",
       "        text-align: right;\n",
       "    }\n",
       "</style>\n",
       "<table border=\"1\" class=\"dataframe\">\n",
       "  <thead>\n",
       "    <tr style=\"text-align: right;\">\n",
       "      <th></th>\n",
       "      <th>name</th>\n",
       "      <th>author</th>\n",
       "      <th>narrator</th>\n",
       "      <th>time</th>\n",
       "      <th>releasedate</th>\n",
       "      <th>language</th>\n",
       "      <th>stars</th>\n",
       "      <th>price</th>\n",
       "    </tr>\n",
       "  </thead>\n",
       "  <tbody>\n",
       "    <tr>\n",
       "      <th>0</th>\n",
       "      <td>Geronimo Stilton #11 &amp; #12</td>\n",
       "      <td>GeronimoStilton</td>\n",
       "      <td>BillLobely</td>\n",
       "      <td>2 hrs and 20 mins</td>\n",
       "      <td>04-08-08</td>\n",
       "      <td>English</td>\n",
       "      <td>5 out of 5 stars34 ratings</td>\n",
       "      <td>468.00</td>\n",
       "    </tr>\n",
       "    <tr>\n",
       "      <th>1</th>\n",
       "      <td>The Burning Maze</td>\n",
       "      <td>RickRiordan</td>\n",
       "      <td>RobbieDaymond</td>\n",
       "      <td>13 hrs and 8 mins</td>\n",
       "      <td>01-05-18</td>\n",
       "      <td>English</td>\n",
       "      <td>4.5 out of 5 stars41 ratings</td>\n",
       "      <td>820.00</td>\n",
       "    </tr>\n",
       "    <tr>\n",
       "      <th>2</th>\n",
       "      <td>The Deep End</td>\n",
       "      <td>JeffKinney</td>\n",
       "      <td>DanRussell</td>\n",
       "      <td>2 hrs and 3 mins</td>\n",
       "      <td>06-11-20</td>\n",
       "      <td>English</td>\n",
       "      <td>4.5 out of 5 stars38 ratings</td>\n",
       "      <td>410.00</td>\n",
       "    </tr>\n",
       "    <tr>\n",
       "      <th>3</th>\n",
       "      <td>Daughter of the Deep</td>\n",
       "      <td>RickRiordan</td>\n",
       "      <td>SoneelaNankani</td>\n",
       "      <td>11 hrs and 16 mins</td>\n",
       "      <td>05-10-21</td>\n",
       "      <td>English</td>\n",
       "      <td>4.5 out of 5 stars12 ratings</td>\n",
       "      <td>615.00</td>\n",
       "    </tr>\n",
       "    <tr>\n",
       "      <th>4</th>\n",
       "      <td>The Lightning Thief: Percy Jackson, Book 1</td>\n",
       "      <td>RickRiordan</td>\n",
       "      <td>JesseBernstein</td>\n",
       "      <td>10 hrs</td>\n",
       "      <td>13-01-10</td>\n",
       "      <td>English</td>\n",
       "      <td>4.5 out of 5 stars181 ratings</td>\n",
       "      <td>820.00</td>\n",
       "    </tr>\n",
       "    <tr>\n",
       "      <th>5</th>\n",
       "      <td>The Hunger Games: Special Edition</td>\n",
       "      <td>SuzanneCollins</td>\n",
       "      <td>TatianaMaslany</td>\n",
       "      <td>10 hrs and 35 mins</td>\n",
       "      <td>30-10-18</td>\n",
       "      <td>English</td>\n",
       "      <td>5 out of 5 stars72 ratings</td>\n",
       "      <td>656.00</td>\n",
       "    </tr>\n",
       "    <tr>\n",
       "      <th>6</th>\n",
       "      <td>Quest for the Diamond Sword</td>\n",
       "      <td>WinterMorgan</td>\n",
       "      <td>LukeDaniels</td>\n",
       "      <td>2 hrs and 23 mins</td>\n",
       "      <td>25-11-14</td>\n",
       "      <td>English</td>\n",
       "      <td>5 out of 5 stars11 ratings</td>\n",
       "      <td>233.00</td>\n",
       "    </tr>\n",
       "    <tr>\n",
       "      <th>7</th>\n",
       "      <td>The Dark Prophecy</td>\n",
       "      <td>RickRiordan</td>\n",
       "      <td>RobbieDaymond</td>\n",
       "      <td>12 hrs and 32 mins</td>\n",
       "      <td>02-05-17</td>\n",
       "      <td>English</td>\n",
       "      <td>5 out of 5 stars50 ratings</td>\n",
       "      <td>820.00</td>\n",
       "    </tr>\n",
       "    <tr>\n",
       "      <th>8</th>\n",
       "      <td>Merlin Mission Collection</td>\n",
       "      <td>MaryPopeOsborne</td>\n",
       "      <td>MaryPopeOsborne</td>\n",
       "      <td>10 hrs and 56 mins</td>\n",
       "      <td>02-05-17</td>\n",
       "      <td>English</td>\n",
       "      <td>5 out of 5 stars5 ratings</td>\n",
       "      <td>1,256.00</td>\n",
       "    </tr>\n",
       "    <tr>\n",
       "      <th>9</th>\n",
       "      <td>The Tyrant’s Tomb</td>\n",
       "      <td>RickRiordan</td>\n",
       "      <td>RobbieDaymond</td>\n",
       "      <td>13 hrs and 22 mins</td>\n",
       "      <td>24-09-19</td>\n",
       "      <td>English</td>\n",
       "      <td>5 out of 5 stars58 ratings</td>\n",
       "      <td>820.00</td>\n",
       "    </tr>\n",
       "  </tbody>\n",
       "</table>\n",
       "</div>"
      ],
      "text/plain": [
       "                                         name           author  \\\n",
       "0                  Geronimo Stilton #11 & #12  GeronimoStilton   \n",
       "1                            The Burning Maze      RickRiordan   \n",
       "2                                The Deep End       JeffKinney   \n",
       "3                        Daughter of the Deep      RickRiordan   \n",
       "4  The Lightning Thief: Percy Jackson, Book 1      RickRiordan   \n",
       "5           The Hunger Games: Special Edition   SuzanneCollins   \n",
       "6                 Quest for the Diamond Sword     WinterMorgan   \n",
       "7                           The Dark Prophecy      RickRiordan   \n",
       "8                   Merlin Mission Collection  MaryPopeOsborne   \n",
       "9                           The Tyrant’s Tomb      RickRiordan   \n",
       "\n",
       "          narrator                time releasedate language  \\\n",
       "0       BillLobely   2 hrs and 20 mins    04-08-08  English   \n",
       "1    RobbieDaymond   13 hrs and 8 mins    01-05-18  English   \n",
       "2       DanRussell    2 hrs and 3 mins    06-11-20  English   \n",
       "3   SoneelaNankani  11 hrs and 16 mins    05-10-21  English   \n",
       "4   JesseBernstein              10 hrs    13-01-10  English   \n",
       "5   TatianaMaslany  10 hrs and 35 mins    30-10-18  English   \n",
       "6      LukeDaniels   2 hrs and 23 mins    25-11-14  English   \n",
       "7    RobbieDaymond  12 hrs and 32 mins    02-05-17  English   \n",
       "8  MaryPopeOsborne  10 hrs and 56 mins    02-05-17  English   \n",
       "9    RobbieDaymond  13 hrs and 22 mins    24-09-19  English   \n",
       "\n",
       "                           stars     price  \n",
       "0     5 out of 5 stars34 ratings    468.00  \n",
       "1   4.5 out of 5 stars41 ratings    820.00  \n",
       "2   4.5 out of 5 stars38 ratings    410.00  \n",
       "3   4.5 out of 5 stars12 ratings    615.00  \n",
       "4  4.5 out of 5 stars181 ratings    820.00  \n",
       "5     5 out of 5 stars72 ratings    656.00  \n",
       "6     5 out of 5 stars11 ratings    233.00  \n",
       "7     5 out of 5 stars50 ratings    820.00  \n",
       "8      5 out of 5 stars5 ratings  1,256.00  \n",
       "9     5 out of 5 stars58 ratings    820.00  "
      ]
     },
     "execution_count": 5,
     "metadata": {},
     "output_type": "execute_result"
    }
   ],
   "source": [
    "# Remove Writtenby: from the author column\n",
    "audible['author'] = audible['author'].str.replace('Writtenby:', '')\n",
    "# Remove Narratedby: from the narrator column\n",
    "audible['narrator'] = audible['narrator'].str.replace('Narratedby:', '')\n",
    "# Check the results\n",
    "audible.head(10)"
   ]
  },
  {
   "cell_type": "markdown",
   "id": "7a171579-a305-41b7-b060-c097e07f9c54",
   "metadata": {},
   "source": [
    "## Task 3: Extract number of stars and ratings from Stars column.\n",
    "\n",
    "The `stars` column combines the number of stars and the number of ratins. Let's turn this into numbers and split it into two columns: `rating_stars` and `n_ratings`.\n",
    "\n",
    "First we will use the `.sample()` method to get a glimpse at the type of entries in that column."
   ]
  },
  {
   "cell_type": "code",
   "execution_count": 6,
   "id": "d87f3a1c-b75d-4625-ace5-db1e8cf5a291",
   "metadata": {
    "executionCancelledAt": null,
    "executionTime": 16,
    "lastExecutedAt": 1713277149117,
    "lastExecutedByKernel": "f60a79ac-f989-4bac-9822-f4321732927a",
    "lastScheduledRunId": null,
    "lastSuccessfullyExecutedCode": "# Get a glimpse of the stars column\naudible.stars.sample(n = 10)",
    "outputsMetadata": {
     "0": {
      "height": 317,
      "type": "dataFrame"
     }
    }
   },
   "outputs": [
    {
     "data": {
      "text/plain": [
       "44057     5 out of 5 stars1 rating\n",
       "68405                Not rated yet\n",
       "33730     2 out of 5 stars1 rating\n",
       "27266                Not rated yet\n",
       "42438                Not rated yet\n",
       "61230    5 out of 5 stars4 ratings\n",
       "26532                Not rated yet\n",
       "60961                Not rated yet\n",
       "70576                Not rated yet\n",
       "70107                Not rated yet\n",
       "Name: stars, dtype: object"
      ]
     },
     "execution_count": 6,
     "metadata": {},
     "output_type": "execute_result"
    }
   ],
   "source": [
    "# Get a glimpse of the stars column\n",
    "audible.stars.sample(n = 10)"
   ]
  },
  {
   "cell_type": "markdown",
   "id": "74f20a83-61ef-492a-adcc-eb09d722b231",
   "metadata": {},
   "source": [
    "Since there are many instances of `Not rated yet`, let's filter them out and sample again:"
   ]
  },
  {
   "cell_type": "code",
   "execution_count": 7,
   "id": "096674e7-8bdb-4aee-9a0e-7f8464c9affd",
   "metadata": {
    "executionCancelledAt": null,
    "executionTime": 44,
    "lastExecutedAt": 1713277153348,
    "lastExecutedByKernel": "f60a79ac-f989-4bac-9822-f4321732927a",
    "lastScheduledRunId": null,
    "lastSuccessfullyExecutedCode": "# Explore the values of the star column that are not 'Not rated yet'\naudible[audible.stars != 'Not rated yet'].sample(n =10)",
    "outputsMetadata": {
     "0": {
      "height": 336,
      "type": "dataFrame"
     }
    }
   },
   "outputs": [
    {
     "data": {
      "text/html": [
       "<div>\n",
       "<style scoped>\n",
       "    .dataframe tbody tr th:only-of-type {\n",
       "        vertical-align: middle;\n",
       "    }\n",
       "\n",
       "    .dataframe tbody tr th {\n",
       "        vertical-align: top;\n",
       "    }\n",
       "\n",
       "    .dataframe thead th {\n",
       "        text-align: right;\n",
       "    }\n",
       "</style>\n",
       "<table border=\"1\" class=\"dataframe\">\n",
       "  <thead>\n",
       "    <tr style=\"text-align: right;\">\n",
       "      <th></th>\n",
       "      <th>name</th>\n",
       "      <th>author</th>\n",
       "      <th>narrator</th>\n",
       "      <th>time</th>\n",
       "      <th>releasedate</th>\n",
       "      <th>language</th>\n",
       "      <th>stars</th>\n",
       "      <th>price</th>\n",
       "    </tr>\n",
       "  </thead>\n",
       "  <tbody>\n",
       "    <tr>\n",
       "      <th>82889</th>\n",
       "      <td>Again Again</td>\n",
       "      <td>E.Lockhart</td>\n",
       "      <td>TaviaGilbert</td>\n",
       "      <td>6 hrs and 7 mins</td>\n",
       "      <td>02-06-20</td>\n",
       "      <td>English</td>\n",
       "      <td>3 out of 5 stars1 rating</td>\n",
       "      <td>1,328.00</td>\n",
       "    </tr>\n",
       "    <tr>\n",
       "      <th>27395</th>\n",
       "      <td>Execution</td>\n",
       "      <td>LarryBossidy,RamCharan</td>\n",
       "      <td>JohnBedfordLloyd</td>\n",
       "      <td>8 hrs and 14 mins</td>\n",
       "      <td>14-06-02</td>\n",
       "      <td>English</td>\n",
       "      <td>4.5 out of 5 stars73 ratings</td>\n",
       "      <td>879.00</td>\n",
       "    </tr>\n",
       "    <tr>\n",
       "      <th>1016</th>\n",
       "      <td>Point Blanc</td>\n",
       "      <td>AnthonyHorowitz</td>\n",
       "      <td>OliverChris</td>\n",
       "      <td>5 hrs and 40 mins</td>\n",
       "      <td>30-01-20</td>\n",
       "      <td>English</td>\n",
       "      <td>5 out of 5 stars6 ratings</td>\n",
       "      <td>569.00</td>\n",
       "    </tr>\n",
       "    <tr>\n",
       "      <th>34496</th>\n",
       "      <td>The Dental Diet</td>\n",
       "      <td>Dr.StevenLin</td>\n",
       "      <td>StevenLin</td>\n",
       "      <td>7 hrs and 57 mins</td>\n",
       "      <td>09-01-18</td>\n",
       "      <td>English</td>\n",
       "      <td>4.5 out of 5 stars3 ratings</td>\n",
       "      <td>668.00</td>\n",
       "    </tr>\n",
       "    <tr>\n",
       "      <th>29859</th>\n",
       "      <td>Speak to Win</td>\n",
       "      <td>BrianTracy</td>\n",
       "      <td>BrianTracy</td>\n",
       "      <td>5 hrs and 13 mins</td>\n",
       "      <td>20-11-08</td>\n",
       "      <td>English</td>\n",
       "      <td>4.5 out of 5 stars12 ratings</td>\n",
       "      <td>468.00</td>\n",
       "    </tr>\n",
       "    <tr>\n",
       "      <th>59270</th>\n",
       "      <td>Rise of a Queen</td>\n",
       "      <td>RinaKent</td>\n",
       "      <td>ShaneEast,KeiraStevens</td>\n",
       "      <td>8 hrs and 44 mins</td>\n",
       "      <td>19-11-20</td>\n",
       "      <td>English</td>\n",
       "      <td>5 out of 5 stars1 rating</td>\n",
       "      <td>668.00</td>\n",
       "    </tr>\n",
       "    <tr>\n",
       "      <th>32132</th>\n",
       "      <td>Running is My Therapy</td>\n",
       "      <td>ScottDouglas,AlisonMariellaDésir</td>\n",
       "      <td>StephenR.Thorne</td>\n",
       "      <td>6 hrs and 52 mins</td>\n",
       "      <td>17-04-18</td>\n",
       "      <td>English</td>\n",
       "      <td>4 out of 5 stars1 rating</td>\n",
       "      <td>586.00</td>\n",
       "    </tr>\n",
       "    <tr>\n",
       "      <th>38256</th>\n",
       "      <td>The History of Rome, Volume 1, Books 1 - 5</td>\n",
       "      <td>TitusLivy,WilliamMasfenRoberts-translator</td>\n",
       "      <td>CharltonGriffin</td>\n",
       "      <td>18 hrs and 16 mins</td>\n",
       "      <td>26-08-10</td>\n",
       "      <td>English</td>\n",
       "      <td>5 out of 5 stars2 ratings</td>\n",
       "      <td>1,003.00</td>\n",
       "    </tr>\n",
       "    <tr>\n",
       "      <th>59190</th>\n",
       "      <td>Mercy</td>\n",
       "      <td>DavidBaldacci</td>\n",
       "      <td>BrittanyPressley,KyfBrewer</td>\n",
       "      <td>11 hrs and 56 mins</td>\n",
       "      <td>25-11-21</td>\n",
       "      <td>English</td>\n",
       "      <td>4 out of 5 stars5 ratings</td>\n",
       "      <td>323.00</td>\n",
       "    </tr>\n",
       "    <tr>\n",
       "      <th>54875</th>\n",
       "      <td>The Undomestic Goddess</td>\n",
       "      <td>SophieKinsella</td>\n",
       "      <td>PhoebeJames</td>\n",
       "      <td>12 hrs and 26 mins</td>\n",
       "      <td>10-01-07</td>\n",
       "      <td>English</td>\n",
       "      <td>3.5 out of 5 stars5 ratings</td>\n",
       "      <td>1,067.00</td>\n",
       "    </tr>\n",
       "  </tbody>\n",
       "</table>\n",
       "</div>"
      ],
      "text/plain": [
       "                                             name  \\\n",
       "82889                                 Again Again   \n",
       "27395                                   Execution   \n",
       "1016                                  Point Blanc   \n",
       "34496                             The Dental Diet   \n",
       "29859                                Speak to Win   \n",
       "59270                             Rise of a Queen   \n",
       "32132                       Running is My Therapy   \n",
       "38256  The History of Rome, Volume 1, Books 1 - 5   \n",
       "59190                                       Mercy   \n",
       "54875                      The Undomestic Goddess   \n",
       "\n",
       "                                          author                    narrator  \\\n",
       "82889                                 E.Lockhart                TaviaGilbert   \n",
       "27395                     LarryBossidy,RamCharan            JohnBedfordLloyd   \n",
       "1016                             AnthonyHorowitz                 OliverChris   \n",
       "34496                               Dr.StevenLin                   StevenLin   \n",
       "29859                                 BrianTracy                  BrianTracy   \n",
       "59270                                   RinaKent      ShaneEast,KeiraStevens   \n",
       "32132           ScottDouglas,AlisonMariellaDésir             StephenR.Thorne   \n",
       "38256  TitusLivy,WilliamMasfenRoberts-translator             CharltonGriffin   \n",
       "59190                              DavidBaldacci  BrittanyPressley,KyfBrewer   \n",
       "54875                             SophieKinsella                 PhoebeJames   \n",
       "\n",
       "                     time releasedate language                         stars  \\\n",
       "82889    6 hrs and 7 mins    02-06-20  English      3 out of 5 stars1 rating   \n",
       "27395   8 hrs and 14 mins    14-06-02  English  4.5 out of 5 stars73 ratings   \n",
       "1016    5 hrs and 40 mins    30-01-20  English     5 out of 5 stars6 ratings   \n",
       "34496   7 hrs and 57 mins    09-01-18  English   4.5 out of 5 stars3 ratings   \n",
       "29859   5 hrs and 13 mins    20-11-08  English  4.5 out of 5 stars12 ratings   \n",
       "59270   8 hrs and 44 mins    19-11-20  English      5 out of 5 stars1 rating   \n",
       "32132   6 hrs and 52 mins    17-04-18  English      4 out of 5 stars1 rating   \n",
       "38256  18 hrs and 16 mins    26-08-10  English     5 out of 5 stars2 ratings   \n",
       "59190  11 hrs and 56 mins    25-11-21  English     4 out of 5 stars5 ratings   \n",
       "54875  12 hrs and 26 mins    10-01-07  English   3.5 out of 5 stars5 ratings   \n",
       "\n",
       "          price  \n",
       "82889  1,328.00  \n",
       "27395    879.00  \n",
       "1016     569.00  \n",
       "34496    668.00  \n",
       "29859    468.00  \n",
       "59270    668.00  \n",
       "32132    586.00  \n",
       "38256  1,003.00  \n",
       "59190    323.00  \n",
       "54875  1,067.00  "
      ]
     },
     "execution_count": 7,
     "metadata": {},
     "output_type": "execute_result"
    }
   ],
   "source": [
    "# Explore the values of the star column that are not 'Not rated yet'\n",
    "audible[audible.stars != 'Not rated yet'].sample(n =10)"
   ]
  },
  {
   "cell_type": "markdown",
   "id": "668b92e7-9a53-4f76-be13-e4721daebf56",
   "metadata": {},
   "source": [
    "As a first step, we can replace the instances of `Not rated yet` with `NaN`"
   ]
  },
  {
   "cell_type": "code",
   "execution_count": 8,
   "id": "b98dc637-16c5-4dba-857f-62e3fb290045",
   "metadata": {
    "executionCancelledAt": null,
    "executionTime": 21,
    "lastExecutedAt": 1713277160210,
    "lastExecutedByKernel": "f60a79ac-f989-4bac-9822-f4321732927a",
    "lastScheduledRunId": null,
    "lastSuccessfullyExecutedCode": "# Replace 'Not rated yet' with NaN\naudible['stars'] = audible['stars'].replace('Not rated yet', np.nan, inplace = True)"
   },
   "outputs": [],
   "source": [
    "# Replace 'Not rated yet' with NaN\n",
    "audible['stars'].replace('Not rated yet', np.nan, inplace = True)"
   ]
  },
  {
   "cell_type": "markdown",
   "id": "86876dd4-20a8-41a4-b5ca-9dfbfcc1dec2",
   "metadata": {},
   "source": [
    "We can use `.str.extract()` to get the number of stars and the number of ratings into their own columns.\n",
    "\n",
    "### Instructions:\n",
    "* Extract the number of stars into the `rating_stars` column\n",
    "* Extract the number of ratings into the `n_ratings` column\n",
    "* Convert both new columns to float"
   ]
  },
  {
   "cell_type": "code",
   "execution_count": 9,
   "id": "80dfd44d-1ad1-443b-91c1-71092ce327b2",
   "metadata": {
    "executionCancelledAt": null,
    "executionTime": 3884,
    "lastExecutedAt": 1713277242658,
    "lastExecutedByKernel": "f60a79ac-f989-4bac-9822-f4321732927a",
    "lastScheduledRunId": null,
    "lastSuccessfullyExecutedCode": "import pandas as pd\n\n# Assuming 'audible' is a DataFrame containing the data\n# Extract number of stars into rating_stars and turn into float\naudible['rating_stars'] = audible['stars'].str.extract('^([\\d.]+)').astype(float)\n# Replace the comma, extract number of ratings into n_ratings and turn into float\naudible\n\n# Examine the new rating_stars and n_ratings columns",
    "outputsMetadata": {
     "0": {
      "height": 336,
      "type": "dataFrame"
     }
    }
   },
   "outputs": [
    {
     "data": {
      "text/html": [
       "<div>\n",
       "<style scoped>\n",
       "    .dataframe tbody tr th:only-of-type {\n",
       "        vertical-align: middle;\n",
       "    }\n",
       "\n",
       "    .dataframe tbody tr th {\n",
       "        vertical-align: top;\n",
       "    }\n",
       "\n",
       "    .dataframe thead th {\n",
       "        text-align: right;\n",
       "    }\n",
       "</style>\n",
       "<table border=\"1\" class=\"dataframe\">\n",
       "  <thead>\n",
       "    <tr style=\"text-align: right;\">\n",
       "      <th></th>\n",
       "      <th>rating_stars</th>\n",
       "      <th>n_rating</th>\n",
       "    </tr>\n",
       "  </thead>\n",
       "  <tbody>\n",
       "    <tr>\n",
       "      <th>0</th>\n",
       "      <td>5.0</td>\n",
       "      <td>34.0</td>\n",
       "    </tr>\n",
       "    <tr>\n",
       "      <th>1</th>\n",
       "      <td>4.5</td>\n",
       "      <td>41.0</td>\n",
       "    </tr>\n",
       "    <tr>\n",
       "      <th>2</th>\n",
       "      <td>4.5</td>\n",
       "      <td>38.0</td>\n",
       "    </tr>\n",
       "    <tr>\n",
       "      <th>3</th>\n",
       "      <td>4.5</td>\n",
       "      <td>12.0</td>\n",
       "    </tr>\n",
       "    <tr>\n",
       "      <th>4</th>\n",
       "      <td>4.5</td>\n",
       "      <td>181.0</td>\n",
       "    </tr>\n",
       "    <tr>\n",
       "      <th>...</th>\n",
       "      <td>...</td>\n",
       "      <td>...</td>\n",
       "    </tr>\n",
       "    <tr>\n",
       "      <th>87484</th>\n",
       "      <td>NaN</td>\n",
       "      <td>NaN</td>\n",
       "    </tr>\n",
       "    <tr>\n",
       "      <th>87485</th>\n",
       "      <td>NaN</td>\n",
       "      <td>NaN</td>\n",
       "    </tr>\n",
       "    <tr>\n",
       "      <th>87486</th>\n",
       "      <td>NaN</td>\n",
       "      <td>NaN</td>\n",
       "    </tr>\n",
       "    <tr>\n",
       "      <th>87487</th>\n",
       "      <td>NaN</td>\n",
       "      <td>NaN</td>\n",
       "    </tr>\n",
       "    <tr>\n",
       "      <th>87488</th>\n",
       "      <td>NaN</td>\n",
       "      <td>NaN</td>\n",
       "    </tr>\n",
       "  </tbody>\n",
       "</table>\n",
       "<p>87489 rows × 2 columns</p>\n",
       "</div>"
      ],
      "text/plain": [
       "       rating_stars  n_rating\n",
       "0               5.0      34.0\n",
       "1               4.5      41.0\n",
       "2               4.5      38.0\n",
       "3               4.5      12.0\n",
       "4               4.5     181.0\n",
       "...             ...       ...\n",
       "87484           NaN       NaN\n",
       "87485           NaN       NaN\n",
       "87486           NaN       NaN\n",
       "87487           NaN       NaN\n",
       "87488           NaN       NaN\n",
       "\n",
       "[87489 rows x 2 columns]"
      ]
     },
     "execution_count": 9,
     "metadata": {},
     "output_type": "execute_result"
    }
   ],
   "source": [
    "import pandas as pd\n",
    "\n",
    "# Assuming 'audible' is a DataFrame containing the data\n",
    "# Extract number of stars into rating_stars and turn into float\n",
    "audible['rating_stars'] = audible['stars'].str.extract('^([\\d.]+)').astype(float)\n",
    "# Replace the comma, extract number of ratings into n_ratings and turn into float\n",
    "audible['n_rating'] = audible['stars'].str.replace(',', '').str.extract('(\\d+) ratings').astype(float)\n",
    "\n",
    "# Examine the new rating_stars and n_ratings columns\n",
    "audible[['rating_stars', 'n_rating']]"
   ]
  },
  {
   "cell_type": "markdown",
   "id": "fb4a3883-44f0-44fb-bb6c-29f074bf73bb",
   "metadata": {},
   "source": [
    "As a last step, let's delete the `stars` column using the `.drop` command:"
   ]
  },
  {
   "cell_type": "code",
   "execution_count": 10,
   "id": "c55c7d51-dc39-44d9-85d3-f01c81ac55a1",
   "metadata": {
    "executionCancelledAt": null,
    "executionTime": 11,
    "lastExecutedAt": 1703636757480,
    "lastScheduledRunId": null,
    "lastSuccessfullyExecutedCode": "# Drop the stars column\n\n# Check the results\n",
    "outputsMetadata": {
     "0": {
      "height": 323,
      "type": "dataFrame"
     }
    }
   },
   "outputs": [
    {
     "data": {
      "text/html": [
       "<div>\n",
       "<style scoped>\n",
       "    .dataframe tbody tr th:only-of-type {\n",
       "        vertical-align: middle;\n",
       "    }\n",
       "\n",
       "    .dataframe tbody tr th {\n",
       "        vertical-align: top;\n",
       "    }\n",
       "\n",
       "    .dataframe thead th {\n",
       "        text-align: right;\n",
       "    }\n",
       "</style>\n",
       "<table border=\"1\" class=\"dataframe\">\n",
       "  <thead>\n",
       "    <tr style=\"text-align: right;\">\n",
       "      <th></th>\n",
       "      <th>name</th>\n",
       "      <th>author</th>\n",
       "      <th>narrator</th>\n",
       "      <th>time</th>\n",
       "      <th>releasedate</th>\n",
       "      <th>language</th>\n",
       "      <th>price</th>\n",
       "      <th>rating_stars</th>\n",
       "      <th>n_rating</th>\n",
       "    </tr>\n",
       "  </thead>\n",
       "  <tbody>\n",
       "    <tr>\n",
       "      <th>0</th>\n",
       "      <td>Geronimo Stilton #11 &amp; #12</td>\n",
       "      <td>GeronimoStilton</td>\n",
       "      <td>BillLobely</td>\n",
       "      <td>2 hrs and 20 mins</td>\n",
       "      <td>04-08-08</td>\n",
       "      <td>English</td>\n",
       "      <td>468.00</td>\n",
       "      <td>5.0</td>\n",
       "      <td>34.0</td>\n",
       "    </tr>\n",
       "    <tr>\n",
       "      <th>1</th>\n",
       "      <td>The Burning Maze</td>\n",
       "      <td>RickRiordan</td>\n",
       "      <td>RobbieDaymond</td>\n",
       "      <td>13 hrs and 8 mins</td>\n",
       "      <td>01-05-18</td>\n",
       "      <td>English</td>\n",
       "      <td>820.00</td>\n",
       "      <td>4.5</td>\n",
       "      <td>41.0</td>\n",
       "    </tr>\n",
       "    <tr>\n",
       "      <th>2</th>\n",
       "      <td>The Deep End</td>\n",
       "      <td>JeffKinney</td>\n",
       "      <td>DanRussell</td>\n",
       "      <td>2 hrs and 3 mins</td>\n",
       "      <td>06-11-20</td>\n",
       "      <td>English</td>\n",
       "      <td>410.00</td>\n",
       "      <td>4.5</td>\n",
       "      <td>38.0</td>\n",
       "    </tr>\n",
       "    <tr>\n",
       "      <th>3</th>\n",
       "      <td>Daughter of the Deep</td>\n",
       "      <td>RickRiordan</td>\n",
       "      <td>SoneelaNankani</td>\n",
       "      <td>11 hrs and 16 mins</td>\n",
       "      <td>05-10-21</td>\n",
       "      <td>English</td>\n",
       "      <td>615.00</td>\n",
       "      <td>4.5</td>\n",
       "      <td>12.0</td>\n",
       "    </tr>\n",
       "    <tr>\n",
       "      <th>4</th>\n",
       "      <td>The Lightning Thief: Percy Jackson, Book 1</td>\n",
       "      <td>RickRiordan</td>\n",
       "      <td>JesseBernstein</td>\n",
       "      <td>10 hrs</td>\n",
       "      <td>13-01-10</td>\n",
       "      <td>English</td>\n",
       "      <td>820.00</td>\n",
       "      <td>4.5</td>\n",
       "      <td>181.0</td>\n",
       "    </tr>\n",
       "  </tbody>\n",
       "</table>\n",
       "</div>"
      ],
      "text/plain": [
       "                                         name           author  \\\n",
       "0                  Geronimo Stilton #11 & #12  GeronimoStilton   \n",
       "1                            The Burning Maze      RickRiordan   \n",
       "2                                The Deep End       JeffKinney   \n",
       "3                        Daughter of the Deep      RickRiordan   \n",
       "4  The Lightning Thief: Percy Jackson, Book 1      RickRiordan   \n",
       "\n",
       "         narrator                time releasedate language   price  \\\n",
       "0      BillLobely   2 hrs and 20 mins    04-08-08  English  468.00   \n",
       "1   RobbieDaymond   13 hrs and 8 mins    01-05-18  English  820.00   \n",
       "2      DanRussell    2 hrs and 3 mins    06-11-20  English  410.00   \n",
       "3  SoneelaNankani  11 hrs and 16 mins    05-10-21  English  615.00   \n",
       "4  JesseBernstein              10 hrs    13-01-10  English  820.00   \n",
       "\n",
       "   rating_stars  n_rating  \n",
       "0           5.0      34.0  \n",
       "1           4.5      41.0  \n",
       "2           4.5      38.0  \n",
       "3           4.5      12.0  \n",
       "4           4.5     181.0  "
      ]
     },
     "execution_count": 10,
     "metadata": {},
     "output_type": "execute_result"
    }
   ],
   "source": [
    "# Drop the stars column\n",
    "audible.drop(columns = ['stars'], axis = 1, inplace = True)\n",
    "# Check the results\n",
    "audible.head()"
   ]
  },
  {
   "cell_type": "markdown",
   "id": "4ce12839-cd89-4ca3-8797-1c69f5b63f89",
   "metadata": {},
   "source": [
    "## Task 4: Change data types\n",
    "\n",
    "Another important step is to have our data in the correct data types\n",
    "\n",
    "### Instructions:\n",
    "* Set `price` to float\n",
    "* Turn `rating_stars` to category\n",
    "* Convert `releasedate` to datetime"
   ]
  },
  {
   "cell_type": "code",
   "execution_count": 11,
   "id": "da9ccac2-9a44-4976-88fd-563dce45d5ae",
   "metadata": {
    "executionCancelledAt": null,
    "executionTime": 11,
    "lastExecutedAt": 1703636766460,
    "lastScheduledRunId": null,
    "lastSuccessfullyExecutedCode": "# Explore the price column\n"
   },
   "outputs": [
    {
     "data": {
      "text/plain": [
       "0      468.00\n",
       "1      820.00\n",
       "2      410.00\n",
       "3      615.00\n",
       "4      820.00\n",
       "5      656.00\n",
       "6      233.00\n",
       "7      820.00\n",
       "8    1,256.00\n",
       "9      820.00\n",
       "Name: price, dtype: object"
      ]
     },
     "execution_count": 11,
     "metadata": {},
     "output_type": "execute_result"
    }
   ],
   "source": [
    "# Explore the price column\n",
    "audible.price.head(10)"
   ]
  },
  {
   "cell_type": "markdown",
   "id": "f84e4272-52c9-4f9d-974c-335c46c282bd",
   "metadata": {},
   "source": [
    "We need to get rid of the comma and the word 'Free' before we can convert the data."
   ]
  },
  {
   "cell_type": "code",
   "execution_count": 12,
   "id": "76e75c2f-818f-4ae0-88c6-de8fb65b2052",
   "metadata": {
    "executionCancelledAt": null,
    "executionTime": 11,
    "lastExecutedAt": 1703636776049,
    "lastScheduledRunId": null,
    "lastSuccessfullyExecutedCode": "# Replace the comma with ''\n\n# Replace 'Free' with 0\n\n# Turn price to float\n"
   },
   "outputs": [],
   "source": [
    "# Replace the comma with ''\n",
    "audible['price'] = audible['price'].str.replace(',', '')\n",
    "# Replace 'Free' with 0\n",
    "audible['price'] = audible['price'].apply(lambda x: 0.0 if x == 'Free' else x)\n",
    "# Turn price to float\n",
    "audible['price'] = audible.price.astype(float)\n",
    "#audible.price.dtype"
   ]
  },
  {
   "cell_type": "markdown",
   "id": "6500fe18-8bf9-4a9a-9733-420afe328180",
   "metadata": {},
   "source": [
    "* Turn `rating_stars` to category\n",
    "\n",
    "Since `stars` can only take a small number of discrete values, the best data type for the column is `category`.\n",
    "\n",
    "Let's first look at the unique values in that column to confirm:"
   ]
  },
  {
   "cell_type": "code",
   "execution_count": 13,
   "id": "0c147230-c83f-46b8-a01b-f67b1a79157c",
   "metadata": {
    "executionCancelledAt": null,
    "executionTime": 11,
    "lastExecutedAt": 1703636780802,
    "lastScheduledRunId": null,
    "lastSuccessfullyExecutedCode": "# Look at the unique values in the rating_stars column\n"
   },
   "outputs": [
    {
     "data": {
      "text/plain": [
       "array([5. , 4.5, 4. , nan, 3.5, 3. , 1. , 2. , 2.5, 1.5])"
      ]
     },
     "execution_count": 13,
     "metadata": {},
     "output_type": "execute_result"
    }
   ],
   "source": [
    "# Look at the unique values in the rating_stars column\n",
    "audible.rating_stars.unique()"
   ]
  },
  {
   "cell_type": "markdown",
   "id": "d00d6894-506b-45b7-8fbc-c3c158d37b98",
   "metadata": {},
   "source": [
    "We can now use `.astype` to change the data type."
   ]
  },
  {
   "cell_type": "code",
   "execution_count": 14,
   "id": "9802dca4-e90a-48d6-a450-bb59c9f22f64",
   "metadata": {
    "executionCancelledAt": null,
    "executionTime": 12,
    "lastExecutedAt": 1703636784744,
    "lastScheduledRunId": null,
    "lastSuccessfullyExecutedCode": "# Turn rating_stars to category\n"
   },
   "outputs": [
    {
     "data": {
      "text/plain": [
       "CategoricalDtype(categories=[1.0, 1.5, 2.0, 2.5, 3.0, 3.5, 4.0, 4.5, 5.0], ordered=False)"
      ]
     },
     "execution_count": 14,
     "metadata": {},
     "output_type": "execute_result"
    }
   ],
   "source": [
    "# Turn rating_stars to category\n",
    "audible['rating_stars'] = audible.rating_stars.astype('category')\n",
    "\n",
    "audible.rating_stars.dtype"
   ]
  },
  {
   "cell_type": "markdown",
   "id": "4020a811-4a1e-4e4b-aee6-96db2cd89ac5",
   "metadata": {},
   "source": [
    "* Convert `releasedate` date to datetime\n",
    "\n",
    "Here we will use the `to_datetime()` function to turn the dates into datetime objects:"
   ]
  },
  {
   "cell_type": "code",
   "execution_count": 15,
   "id": "89b25e98-de84-4bb8-b650-676a81a4682c",
   "metadata": {
    "executionCancelledAt": null,
    "executionTime": 11,
    "lastExecutedAt": 1703636790861,
    "lastScheduledRunId": null,
    "lastSuccessfullyExecutedCode": "# Convert releasedate to datetime\n\n# Inspect the dataframe \n",
    "outputsMetadata": {
     "0": {
      "height": 337,
      "type": "stream"
     }
    }
   },
   "outputs": [
    {
     "name": "stdout",
     "output_type": "stream",
     "text": [
      "<class 'pandas.core.frame.DataFrame'>\n",
      "RangeIndex: 87489 entries, 0 to 87488\n",
      "Data columns (total 9 columns):\n",
      " #   Column        Non-Null Count  Dtype         \n",
      "---  ------        --------------  -----         \n",
      " 0   name          87489 non-null  object        \n",
      " 1   author        87489 non-null  object        \n",
      " 2   narrator      87489 non-null  object        \n",
      " 3   time          87489 non-null  object        \n",
      " 4   releasedate   87489 non-null  datetime64[ns]\n",
      " 5   language      87489 non-null  object        \n",
      " 6   price         87489 non-null  float64       \n",
      " 7   rating_stars  15072 non-null  category      \n",
      " 8   n_rating      9250 non-null   float64       \n",
      "dtypes: category(1), datetime64[ns](1), float64(2), object(5)\n",
      "memory usage: 5.4+ MB\n"
     ]
    }
   ],
   "source": [
    "# Convert releasedate to datetime\n",
    "audible['releasedate']  = pd.to_datetime(audible.releasedate)\n",
    "# Inspect the dataframe \n",
    "audible.info()"
   ]
  },
  {
   "cell_type": "markdown",
   "id": "a59566a9-7aaa-456e-a356-b063ac339d89",
   "metadata": {},
   "source": [
    "## Task 5: Extract hours and minutes from the `time` column\n",
    "\n",
    "The `time` column combines the number of hours and minutes into one column. We want to transform and consolidate the information into a new `time_minutes` column."
   ]
  },
  {
   "cell_type": "code",
   "execution_count": 16,
   "id": "120dc06a-96fb-45aa-8e3b-eb079da54a3a",
   "metadata": {
    "executionCancelledAt": null,
    "executionTime": 12,
    "lastExecutedAt": 1703636795122,
    "lastScheduledRunId": null,
    "lastSuccessfullyExecutedCode": "# Explore the values in the time column\n"
   },
   "outputs": [
    {
     "data": {
      "text/plain": [
       "15141    2 hrs and 31 mins\n",
       "5592       1 hr and 6 mins\n",
       "14540    2 hrs and 15 mins\n",
       "47672                 1 hr\n",
       "21718    9 hrs and 48 mins\n",
       "83794    7 hrs and 27 mins\n",
       "75       6 hrs and 58 mins\n",
       "19054              36 mins\n",
       "65958    5 hrs and 34 mins\n",
       "84009    4 hrs and 49 mins\n",
       "Name: time, dtype: object"
      ]
     },
     "execution_count": 16,
     "metadata": {},
     "output_type": "execute_result"
    }
   ],
   "source": [
    "# Explore the values in the time column\n",
    "audible.time.sample(n = 10)"
   ]
  },
  {
   "cell_type": "markdown",
   "id": "9e345ee7-94dd-4389-8799-2248782c5112",
   "metadata": {},
   "source": [
    "Let's see what other ways they have encoded `min` or `minutes`:"
   ]
  },
  {
   "cell_type": "code",
   "execution_count": 17,
   "id": "cb2df360-60a2-4c31-93e5-2bb322decbf6",
   "metadata": {
    "executionCancelledAt": null,
    "executionTime": 11,
    "lastExecutedAt": 1703636799455,
    "lastScheduledRunId": null,
    "lastSuccessfullyExecutedCode": "# Search the entries in the time column for different spellings of min. Let' try min, mins, minutes\n"
   },
   "outputs": [
    {
     "name": "stdout",
     "output_type": "stream",
     "text": [
      "1404     Less than 1 minute\n",
      "10886    Less than 1 minute\n",
      "10189    Less than 1 minute\n",
      "87058    Less than 1 minute\n",
      "55648    Less than 1 minute\n",
      "10897    Less than 1 minute\n",
      "87059    Less than 1 minute\n",
      "87110    Less than 1 minute\n",
      "87090    Less than 1 minute\n",
      "87069    Less than 1 minute\n",
      "Name: time, dtype: object\n"
     ]
    }
   ],
   "source": [
    "# Search the entries in the time column for different spellings of min. Let' try min, mins, minutes\n",
    "print(audible.time[audible.time.str.contains('minute')].sample(n = 10).head(10))\n",
    "#print(audible.time[audible.time.str.contains('hr')].sample(n = 10).head(10))\n"
   ]
  },
  {
   "cell_type": "markdown",
   "id": "d2bc14b0-253c-4f26-91ee-37ab37e8e8b2",
   "metadata": {},
   "source": [
    "We can see that we need to fix the following:\n",
    "* hr, hrs -> consolidate as `hr`\n",
    "* min, mins -> consolidate as `min`\n",
    "* Less than 1 minute -> round to 1 min"
   ]
  },
  {
   "cell_type": "code",
   "execution_count": 18,
   "id": "6f0817a3-4953-430e-98d1-2a743643c280",
   "metadata": {
    "executionCancelledAt": null,
    "executionTime": 9,
    "lastExecutedAt": 1703636808097,
    "lastScheduledRunId": null,
    "lastSuccessfullyExecutedCode": "# Replace hrs, mins, and 'Less than 1 minute'\n\n\n"
   },
   "outputs": [],
   "source": [
    "# Replace hrs, mins, and 'Less than 1 minute'\n",
    "audible['time'] = audible['time'].str.replace('hrs', 'hr')\n",
    "audible['time'] = audible['time'].str.replace('mins', 'min')\n",
    "audible['time'] = audible['time'].str.replace('Less than a minute', '1 min')"
   ]
  },
  {
   "cell_type": "markdown",
   "id": "0fbd3f46-a515-45de-a11d-95924ca328d2",
   "metadata": {},
   "source": [
    "Let's see how it looks now:"
   ]
  },
  {
   "cell_type": "code",
   "execution_count": 19,
   "id": "3bd64428-7256-44c6-b725-86cd38e86e63",
   "metadata": {
    "executionCancelledAt": null,
    "executionTime": 12,
    "lastExecutedAt": 1703636816314,
    "lastScheduledRunId": null,
    "lastSuccessfullyExecutedCode": "# Check the results\n",
    "outputsMetadata": {
     "0": {
      "height": 323,
      "type": "dataFrame"
     }
    }
   },
   "outputs": [
    {
     "data": {
      "text/html": [
       "<div>\n",
       "<style scoped>\n",
       "    .dataframe tbody tr th:only-of-type {\n",
       "        vertical-align: middle;\n",
       "    }\n",
       "\n",
       "    .dataframe tbody tr th {\n",
       "        vertical-align: top;\n",
       "    }\n",
       "\n",
       "    .dataframe thead th {\n",
       "        text-align: right;\n",
       "    }\n",
       "</style>\n",
       "<table border=\"1\" class=\"dataframe\">\n",
       "  <thead>\n",
       "    <tr style=\"text-align: right;\">\n",
       "      <th></th>\n",
       "      <th>time</th>\n",
       "    </tr>\n",
       "  </thead>\n",
       "  <tbody>\n",
       "    <tr>\n",
       "      <th>0</th>\n",
       "      <td>2 hr and 20 min</td>\n",
       "    </tr>\n",
       "    <tr>\n",
       "      <th>1</th>\n",
       "      <td>13 hr and 8 min</td>\n",
       "    </tr>\n",
       "    <tr>\n",
       "      <th>2</th>\n",
       "      <td>2 hr and 3 min</td>\n",
       "    </tr>\n",
       "    <tr>\n",
       "      <th>3</th>\n",
       "      <td>11 hr and 16 min</td>\n",
       "    </tr>\n",
       "    <tr>\n",
       "      <th>4</th>\n",
       "      <td>10 hr</td>\n",
       "    </tr>\n",
       "  </tbody>\n",
       "</table>\n",
       "</div>"
      ],
      "text/plain": [
       "               time\n",
       "0   2 hr and 20 min\n",
       "1   13 hr and 8 min\n",
       "2    2 hr and 3 min\n",
       "3  11 hr and 16 min\n",
       "4             10 hr"
      ]
     },
     "execution_count": 19,
     "metadata": {},
     "output_type": "execute_result"
    }
   ],
   "source": [
    "# Check the results\n",
    "audible[['time']].head()"
   ]
  },
  {
   "cell_type": "markdown",
   "id": "032528c9-c3cf-45a9-aa09-d3cda2d5f73f",
   "metadata": {},
   "source": [
    "The next step is to extract the number of hours and minutes from the text, then combine in a new `time_mins` column.\n",
    "\n",
    "### Instructions: \n",
    "* Extract the number of hours from `time`. Assign to the `hours` variable.\n",
    "* Extract the number of minutes from `time`. Assign to the `mins` variable.\n",
    "* Create the `time_mins` column combining hours and minutes."
   ]
  },
  {
   "cell_type": "code",
   "execution_count": 20,
   "id": "8cf70611-a69a-4111-9c41-74de4fbf5863",
   "metadata": {
    "executionCancelledAt": null,
    "executionTime": 10,
    "lastExecutedAt": 1703636827854,
    "lastScheduledRunId": null,
    "lastSuccessfullyExecutedCode": "# Extract the number of hours, turn to integer\n\n# Extract the number of minutes, turn to integer\n\n# Combine hours and minutes into the time_mins column\n\n# Check the results\n",
    "outputsMetadata": {
     "0": {
      "height": 323,
      "type": "dataFrame"
     }
    }
   },
   "outputs": [
    {
     "data": {
      "text/html": [
       "<div>\n",
       "<style scoped>\n",
       "    .dataframe tbody tr th:only-of-type {\n",
       "        vertical-align: middle;\n",
       "    }\n",
       "\n",
       "    .dataframe tbody tr th {\n",
       "        vertical-align: top;\n",
       "    }\n",
       "\n",
       "    .dataframe thead th {\n",
       "        text-align: right;\n",
       "    }\n",
       "</style>\n",
       "<table border=\"1\" class=\"dataframe\">\n",
       "  <thead>\n",
       "    <tr style=\"text-align: right;\">\n",
       "      <th></th>\n",
       "      <th>time_in_minutes</th>\n",
       "    </tr>\n",
       "  </thead>\n",
       "  <tbody>\n",
       "    <tr>\n",
       "      <th>0</th>\n",
       "      <td>140</td>\n",
       "    </tr>\n",
       "    <tr>\n",
       "      <th>1</th>\n",
       "      <td>788</td>\n",
       "    </tr>\n",
       "    <tr>\n",
       "      <th>2</th>\n",
       "      <td>123</td>\n",
       "    </tr>\n",
       "    <tr>\n",
       "      <th>3</th>\n",
       "      <td>676</td>\n",
       "    </tr>\n",
       "    <tr>\n",
       "      <th>4</th>\n",
       "      <td>600</td>\n",
       "    </tr>\n",
       "  </tbody>\n",
       "</table>\n",
       "</div>"
      ],
      "text/plain": [
       "   time_in_minutes\n",
       "0              140\n",
       "1              788\n",
       "2              123\n",
       "3              676\n",
       "4              600"
      ]
     },
     "execution_count": 20,
     "metadata": {},
     "output_type": "execute_result"
    }
   ],
   "source": [
    "# Extract the number of hours, turn to integer\n",
    "hours = audible['time'].str.extract('(\\d+) hr').fillna(0).astype(int)\n",
    "# Extract the number of minutes, turn to integer\n",
    "mins = audible['time'].str.extract('(\\d+) min').fillna(0).astype(int)\n",
    "# Combine hours and minutes into the time_mins column\n",
    "audible['time_in_minutes'] = (hours * 60) + mins\n",
    "# Check the results\n",
    "audible[['time_in_minutes']].head()"
   ]
  },
  {
   "cell_type": "markdown",
   "id": "ec7ece51-0692-4dd4-ae0c-2735b016269a",
   "metadata": {},
   "source": [
    "And as final step, let's delete the columns we don't need any more:"
   ]
  },
  {
   "cell_type": "code",
   "execution_count": 21,
   "id": "54b40957-1dce-402f-8acc-632a5d3de756",
   "metadata": {
    "executionCancelledAt": null,
    "executionTime": 11,
    "lastExecutedAt": 1703636832302,
    "lastScheduledRunId": null,
    "lastSuccessfullyExecutedCode": "# Drop the time column\n"
   },
   "outputs": [],
   "source": [
    "# Drop the time column\n",
    "audible.drop(columns = ['time'], axis = 1, inplace = True)"
   ]
  },
  {
   "cell_type": "markdown",
   "id": "b03b6682-1165-4304-9722-b0f0e8065f0c",
   "metadata": {},
   "source": [
    "Here is how our dataframe looks now:"
   ]
  },
  {
   "cell_type": "code",
   "execution_count": 22,
   "id": "ade24183-d3f6-4b3d-b380-e4cfa8bb0684",
   "metadata": {
    "executionCancelledAt": null,
    "executionTime": 11,
    "lastExecutedAt": 1703636834900,
    "lastScheduledRunId": null,
    "lastSuccessfullyExecutedCode": "# Inspect the dataframe \n",
    "outputsMetadata": {
     "0": {
      "height": 337,
      "type": "stream"
     }
    }
   },
   "outputs": [
    {
     "name": "stdout",
     "output_type": "stream",
     "text": [
      "<class 'pandas.core.frame.DataFrame'>\n",
      "RangeIndex: 87489 entries, 0 to 87488\n",
      "Data columns (total 9 columns):\n",
      " #   Column           Non-Null Count  Dtype         \n",
      "---  ------           --------------  -----         \n",
      " 0   name             87489 non-null  object        \n",
      " 1   author           87489 non-null  object        \n",
      " 2   narrator         87489 non-null  object        \n",
      " 3   releasedate      87489 non-null  datetime64[ns]\n",
      " 4   language         87489 non-null  object        \n",
      " 5   price            87489 non-null  float64       \n",
      " 6   rating_stars     15072 non-null  category      \n",
      " 7   n_rating         9250 non-null   float64       \n",
      " 8   time_in_minutes  87489 non-null  int32         \n",
      "dtypes: category(1), datetime64[ns](1), float64(2), int32(1), object(4)\n",
      "memory usage: 5.1+ MB\n"
     ]
    }
   ],
   "source": [
    "# Inspect the dataframe \n",
    "audible.info()"
   ]
  },
  {
   "cell_type": "markdown",
   "id": "bc18846c-6bab-4089-9471-4cbf62b9234c",
   "metadata": {},
   "source": [
    "## Task 6: Check data ranges\n",
    "\n",
    "Another important step is to confirm that the values in our columns are in the expected ranges and that we don't have out-of-range values.\n",
    "\n",
    "Let's create a histogram of the numeric columns to visually inspect ht ranges and the shape of the distribution:"
   ]
  },
  {
   "cell_type": "code",
   "execution_count": 23,
   "id": "71bc7a0f-95dd-47df-a72e-0210289291ea",
   "metadata": {
    "executionCancelledAt": null,
    "executionTime": 12,
    "lastExecutedAt": 1703636842683,
    "lastScheduledRunId": null,
    "lastSuccessfullyExecutedCode": "# Plot histograms of all the numerical columns\n"
   },
   "outputs": [
    {
     "data": {
      "image/png": "[encoded data removed]",
      "text/plain": [
       "<Figure size 1000x1000 with 4 Axes>"
      ]
     },
     "metadata": {},
     "output_type": "display_data"
    }
   ],
   "source": [
    "# Plot histograms of all the numerical columns\n",
    "audible.hist(figsize =(10,10), bins = 100)\n",
    "plt.show()"
   ]
  },
  {
   "cell_type": "markdown",
   "id": "9e14b4b0-a419-43d8-8738-bee3b8611991",
   "metadata": {},
   "source": [
    "Additionally, we can use `.describe()` to look at a summary of our data"
   ]
  },
  {
   "cell_type": "code",
   "execution_count": 24,
   "id": "39bc28a5-28b5-4387-81a5-092812b8e5e5",
   "metadata": {
    "executionCancelledAt": null,
    "executionTime": 10,
    "lastExecutedAt": 1703636849381,
    "lastScheduledRunId": null,
    "lastSuccessfullyExecutedCode": "# Look at the numeric columns\n",
    "outputsMetadata": {
     "0": {
      "height": 273,
      "type": "dataFrame"
     }
    }
   },
   "outputs": [
    {
     "data": {
      "text/html": [
       "<div>\n",
       "<style scoped>\n",
       "    .dataframe tbody tr th:only-of-type {\n",
       "        vertical-align: middle;\n",
       "    }\n",
       "\n",
       "    .dataframe tbody tr th {\n",
       "        vertical-align: top;\n",
       "    }\n",
       "\n",
       "    .dataframe thead th {\n",
       "        text-align: right;\n",
       "    }\n",
       "</style>\n",
       "<table border=\"1\" class=\"dataframe\">\n",
       "  <thead>\n",
       "    <tr style=\"text-align: right;\">\n",
       "      <th></th>\n",
       "      <th>price</th>\n",
       "      <th>n_rating</th>\n",
       "      <th>time_in_minutes</th>\n",
       "    </tr>\n",
       "  </thead>\n",
       "  <tbody>\n",
       "    <tr>\n",
       "      <th>count</th>\n",
       "      <td>87489.000000</td>\n",
       "      <td>9250.000000</td>\n",
       "      <td>87489.000000</td>\n",
       "    </tr>\n",
       "    <tr>\n",
       "      <th>mean</th>\n",
       "      <td>559.009246</td>\n",
       "      <td>34.587243</td>\n",
       "      <td>417.497663</td>\n",
       "    </tr>\n",
       "    <tr>\n",
       "      <th>std</th>\n",
       "      <td>336.096642</td>\n",
       "      <td>264.025444</td>\n",
       "      <td>364.559399</td>\n",
       "    </tr>\n",
       "    <tr>\n",
       "      <th>min</th>\n",
       "      <td>0.000000</td>\n",
       "      <td>2.000000</td>\n",
       "      <td>1.000000</td>\n",
       "    </tr>\n",
       "    <tr>\n",
       "      <th>25%</th>\n",
       "      <td>268.000000</td>\n",
       "      <td>2.000000</td>\n",
       "      <td>142.000000</td>\n",
       "    </tr>\n",
       "    <tr>\n",
       "      <th>50%</th>\n",
       "      <td>585.000000</td>\n",
       "      <td>5.000000</td>\n",
       "      <td>386.000000</td>\n",
       "    </tr>\n",
       "    <tr>\n",
       "      <th>75%</th>\n",
       "      <td>755.000000</td>\n",
       "      <td>14.000000</td>\n",
       "      <td>584.000000</td>\n",
       "    </tr>\n",
       "    <tr>\n",
       "      <th>max</th>\n",
       "      <td>7198.000000</td>\n",
       "      <td>12573.000000</td>\n",
       "      <td>8595.000000</td>\n",
       "    </tr>\n",
       "  </tbody>\n",
       "</table>\n",
       "</div>"
      ],
      "text/plain": [
       "              price      n_rating  time_in_minutes\n",
       "count  87489.000000   9250.000000     87489.000000\n",
       "mean     559.009246     34.587243       417.497663\n",
       "std      336.096642    264.025444       364.559399\n",
       "min        0.000000      2.000000         1.000000\n",
       "25%      268.000000      2.000000       142.000000\n",
       "50%      585.000000      5.000000       386.000000\n",
       "75%      755.000000     14.000000       584.000000\n",
       "max     7198.000000  12573.000000      8595.000000"
      ]
     },
     "execution_count": 24,
     "metadata": {},
     "output_type": "execute_result"
    }
   ],
   "source": [
    "# Look at the numeric columns\n",
    "audible.describe()"
   ]
  },
  {
   "cell_type": "code",
   "execution_count": 25,
   "id": "3a61f89b-76d8-4793-8fe8-cb470ea84966",
   "metadata": {
    "chartConfig": {
     "bar": {
      "hasRoundedCorners": true,
      "stacked": false
     },
     "type": "bar",
     "version": "v1"
    },
    "executionTime": 57,
    "lastSuccessfullyExecutedCode": "# Look at the non numeric columns\naudible.describe(exclude=[np.number])",
    "outputsMetadata": {
     "0": {
      "height": 218,
      "type": "dataFrame"
     }
    },
    "visualizeDataframe": false
   },
   "outputs": [
    {
     "name": "stderr",
     "output_type": "stream",
     "text": [
      "C:\\Users\\Administrator\\AppData\\Local\\Temp\\ipykernel_22296\\2838511557.py:2: FutureWarning: Treating datetime data as categorical rather than numeric in `.describe` is deprecated and will be removed in a future version of pandas. Specify `datetime_is_numeric=True` to silence this warning and adopt the future behavior now.\n",
      "  audible.describe(exclude=[np.number])\n"
     ]
    },
    {
     "data": {
      "text/html": [
       "<div>\n",
       "<style scoped>\n",
       "    .dataframe tbody tr th:only-of-type {\n",
       "        vertical-align: middle;\n",
       "    }\n",
       "\n",
       "    .dataframe tbody tr th {\n",
       "        vertical-align: top;\n",
       "    }\n",
       "\n",
       "    .dataframe thead th {\n",
       "        text-align: right;\n",
       "    }\n",
       "</style>\n",
       "<table border=\"1\" class=\"dataframe\">\n",
       "  <thead>\n",
       "    <tr style=\"text-align: right;\">\n",
       "      <th></th>\n",
       "      <th>name</th>\n",
       "      <th>author</th>\n",
       "      <th>narrator</th>\n",
       "      <th>releasedate</th>\n",
       "      <th>language</th>\n",
       "      <th>rating_stars</th>\n",
       "    </tr>\n",
       "  </thead>\n",
       "  <tbody>\n",
       "    <tr>\n",
       "      <th>count</th>\n",
       "      <td>87489</td>\n",
       "      <td>87489</td>\n",
       "      <td>87489</td>\n",
       "      <td>87489</td>\n",
       "      <td>87489</td>\n",
       "      <td>15072.0</td>\n",
       "    </tr>\n",
       "    <tr>\n",
       "      <th>unique</th>\n",
       "      <td>82767</td>\n",
       "      <td>48374</td>\n",
       "      <td>29717</td>\n",
       "      <td>5058</td>\n",
       "      <td>36</td>\n",
       "      <td>9.0</td>\n",
       "    </tr>\n",
       "    <tr>\n",
       "      <th>top</th>\n",
       "      <td>The Art of War</td>\n",
       "      <td>矢島雅弘,石橋遊</td>\n",
       "      <td>anonymous</td>\n",
       "      <td>2018-05-16 00:00:00</td>\n",
       "      <td>English</td>\n",
       "      <td>5.0</td>\n",
       "    </tr>\n",
       "    <tr>\n",
       "      <th>freq</th>\n",
       "      <td>20</td>\n",
       "      <td>874</td>\n",
       "      <td>1034</td>\n",
       "      <td>773</td>\n",
       "      <td>61884</td>\n",
       "      <td>6761.0</td>\n",
       "    </tr>\n",
       "    <tr>\n",
       "      <th>first</th>\n",
       "      <td>NaN</td>\n",
       "      <td>NaN</td>\n",
       "      <td>NaN</td>\n",
       "      <td>1998-12-27 00:00:00</td>\n",
       "      <td>NaN</td>\n",
       "      <td>NaN</td>\n",
       "    </tr>\n",
       "    <tr>\n",
       "      <th>last</th>\n",
       "      <td>NaN</td>\n",
       "      <td>NaN</td>\n",
       "      <td>NaN</td>\n",
       "      <td>2025-11-14 00:00:00</td>\n",
       "      <td>NaN</td>\n",
       "      <td>NaN</td>\n",
       "    </tr>\n",
       "  </tbody>\n",
       "</table>\n",
       "</div>"
      ],
      "text/plain": [
       "                  name    author   narrator          releasedate language  \\\n",
       "count            87489     87489      87489                87489    87489   \n",
       "unique           82767     48374      29717                 5058       36   \n",
       "top     The Art of War  矢島雅弘,石橋遊  anonymous  2018-05-16 00:00:00  English   \n",
       "freq                20       874       1034                  773    61884   \n",
       "first              NaN       NaN        NaN  1998-12-27 00:00:00      NaN   \n",
       "last               NaN       NaN        NaN  2025-11-14 00:00:00      NaN   \n",
       "\n",
       "        rating_stars  \n",
       "count        15072.0  \n",
       "unique           9.0  \n",
       "top              5.0  \n",
       "freq          6761.0  \n",
       "first            NaN  \n",
       "last             NaN  "
      ]
     },
     "execution_count": 25,
     "metadata": {},
     "output_type": "execute_result"
    }
   ],
   "source": [
    "# Look at the non numeric columns\n",
    "audible.describe(exclude=[np.number])"
   ]
  },
  {
   "cell_type": "markdown",
   "id": "1e382f9e-0beb-4855-88fd-579106ba7b0a",
   "metadata": {},
   "source": [
    "We will transform the prices in `price` to USD for this exercise. We can use the exchange rate of 1 USD = 0.012 INR:"
   ]
  },
  {
   "cell_type": "code",
   "execution_count": 26,
   "id": "22cd90ab-53cc-40e2-a90a-2439991ddbfc",
   "metadata": {
    "executionCancelledAt": null,
    "executionTime": 11,
    "jupyter": {
     "outputs_hidden": false,
     "source_hidden": false
    },
    "lastExecutedAt": 1703636856199,
    "lastScheduledRunId": null,
    "lastSuccessfullyExecutedCode": "# Transform prices to USD (multiply times 0.012)\n\n# Check the results\n"
   },
   "outputs": [
    {
     "data": {
      "text/plain": [
       "count    87489.000000\n",
       "mean         6.708111\n",
       "std          4.033160\n",
       "min          0.000000\n",
       "25%          3.216000\n",
       "50%          7.020000\n",
       "75%          9.060000\n",
       "max         86.376000\n",
       "Name: price, dtype: float64"
      ]
     },
     "execution_count": 26,
     "metadata": {},
     "output_type": "execute_result"
    }
   ],
   "source": [
    "# Transform prices to USD (multiply times 0.012)\n",
    "audible['price'] = audible.price * 0.012\n",
    "# Check the results\n",
    "audible.price.describe()"
   ]
  },
  {
   "cell_type": "markdown",
   "id": "c04ca8b7-516d-4446-ab3a-1da7766c04b7",
   "metadata": {},
   "source": [
    "There values in the `language` column have different capitalization. Let's fix that."
   ]
  },
  {
   "cell_type": "code",
   "execution_count": 27,
   "id": "f5af1078-c6b0-4751-92f4-c9b914b0d3a6",
   "metadata": {
    "executionCancelledAt": null,
    "executionTime": 11,
    "lastExecutedAt": 1703636861142,
    "lastScheduledRunId": null,
    "lastSuccessfullyExecutedCode": "# Inspect the language column before making changes\n"
   },
   "outputs": [
    {
     "data": {
      "text/plain": [
       "array(['English', 'Hindi', 'spanish', 'german', 'french', 'catalan',\n",
       "       'swedish', 'italian', 'danish', 'finnish', 'dutch', 'hebrew',\n",
       "       'russian', 'polish', 'galician', 'afrikaans', 'icelandic',\n",
       "       'romanian', 'japanese', 'tamil', 'portuguese', 'urdu', 'hungarian',\n",
       "       'czech', 'bulgarian', 'mandarin_chinese', 'basque', 'korean',\n",
       "       'arabic', 'greek', 'turkish', 'ukrainian', 'slovene', 'norwegian',\n",
       "       'telugu', 'lithuanian'], dtype=object)"
      ]
     },
     "execution_count": 27,
     "metadata": {},
     "output_type": "execute_result"
    }
   ],
   "source": [
    "# Inspect the language column before making changes\n",
    "audible.language.unique()"
   ]
  },
  {
   "cell_type": "code",
   "execution_count": 29,
   "id": "2bbd1927-f090-45f7-b66b-ca3ee8bfba9d",
   "metadata": {
    "executionCancelledAt": null,
    "executionTime": 11,
    "lastExecutedAt": 1703636868965,
    "lastScheduledRunId": null,
    "lastSuccessfullyExecutedCode": "# Update capitalization in the language column\n\n# Check the results\n"
   },
   "outputs": [
    {
     "data": {
      "text/plain": [
       "array(['English', 'Hindi', 'Spanish', 'German', 'French', 'Catalan',\n",
       "       'Swedish', 'Italian', 'Danish', 'Finnish', 'Dutch', 'Hebrew',\n",
       "       'Russian', 'Polish', 'Galician', 'Afrikaans', 'Icelandic',\n",
       "       'Romanian', 'Japanese', 'Tamil', 'Portuguese', 'Urdu', 'Hungarian',\n",
       "       'Czech', 'Bulgarian', 'Mandarin_chinese', 'Basque', 'Korean',\n",
       "       'Arabic', 'Greek', 'Turkish', 'Ukrainian', 'Slovene', 'Norwegian',\n",
       "       'Telugu', 'Lithuanian'], dtype=object)"
      ]
     },
     "execution_count": 29,
     "metadata": {},
     "output_type": "execute_result"
    }
   ],
   "source": [
    "# Update capitalization in the language column\n",
    "audible['language'] = audible.language.str.capitalize()\n",
    "# Check the results\n",
    "audible.language.unique()"
   ]
  },
  {
   "cell_type": "markdown",
   "id": "6b697677-a8bc-4b1b-9ce9-7d38906c5a23",
   "metadata": {},
   "source": [
    "## Task 7: Checking for duplicates\n",
    "\n",
    "How many duplicates do we have?\n",
    "\n",
    "As a first step look for duplicates using `.duplicated()` and `.sum()`:"
   ]
  },
  {
   "cell_type": "code",
   "execution_count": null,
   "id": "f5d2ed76-44d5-4d68-bc39-41e70df5349b",
   "metadata": {
    "executionCancelledAt": null,
    "executionTime": 11,
    "lastExecutedAt": 1703636876657,
    "lastScheduledRunId": null,
    "lastSuccessfullyExecutedCode": "# Look for duplicate rows\n"
   },
   "outputs": [],
   "source": [
    "# Look for duplicate rows\n"
   ]
  },
  {
   "cell_type": "markdown",
   "id": "07c5e07a-ea4b-4583-afa0-b8a9f96782ce",
   "metadata": {},
   "source": [
    "It is useful to look for duplicates only using a subset of the columns that make sense. We will use the following subset of columns:\n",
    "* name\n",
    "* author\n",
    "* narrator\n",
    "* time_mins\n",
    "* price\n",
    "\n",
    "Here we use `.duplicated()` again, but with our subset of columns."
   ]
  },
  {
   "cell_type": "code",
   "execution_count": null,
   "id": "2ce4ccbb-4f84-4df9-ad8d-a6e91462ddf3",
   "metadata": {
    "executionCancelledAt": null,
    "executionTime": 12,
    "lastExecutedAt": 1703636883462,
    "lastScheduledRunId": null,
    "lastSuccessfullyExecutedCode": "# Create a list of our subset columns and assign to subset_cols\n\n# Check for duplicates using our subset of columns\n"
   },
   "outputs": [],
   "source": [
    "# Create a list of our subset columns and assign to subset_cols\n",
    "\n",
    "# Check for duplicates using our subset of columns\n"
   ]
  },
  {
   "cell_type": "markdown",
   "id": "ad1dd974-3579-4443-96d1-46df909c54b1",
   "metadata": {},
   "source": [
    "Let's look at those values (use `keep=false`) and see what is going on:"
   ]
  },
  {
   "cell_type": "code",
   "execution_count": null,
   "id": "6d1fe8ea-31f7-4d46-bf7f-9d55220e6137",
   "metadata": {
    "executionCancelledAt": null,
    "executionTime": 11,
    "lastExecutedAt": 1703636888007,
    "lastScheduledRunId": null,
    "lastSuccessfullyExecutedCode": "# Check the duplicated rows keeping the duplicates and order by the name column\n",
    "outputsMetadata": {
     "0": {
      "height": 323,
      "type": "dataFrame"
     }
    }
   },
   "outputs": [],
   "source": [
    "# Check the duplicated rows keeping the duplicates and order by the name column\n"
   ]
  },
  {
   "cell_type": "markdown",
   "id": "311c02af-9738-40c1-92b6-88ab1a71fc2f",
   "metadata": {},
   "source": [
    "We can see that the duplicates are for files with different release dates. We can decide to keep the record with the last release date.\n",
    "\n",
    "We will can use the `drop_duplicates()` method with the same subset and using `keep=last` to keep the last release date"
   ]
  },
  {
   "cell_type": "code",
   "execution_count": null,
   "id": "93c6470a-fd3f-4624-b130-1e347e04d64b",
   "metadata": {
    "executionCancelledAt": null,
    "executionTime": 12,
    "lastExecutedAt": 1703636891971,
    "lastScheduledRunId": null,
    "lastSuccessfullyExecutedCode": "# Drop duplicated rows keeping the last release date\n"
   },
   "outputs": [],
   "source": [
    "# Drop duplicated rows keeping the last release date\n"
   ]
  },
  {
   "cell_type": "markdown",
   "id": "cdc50f0f-ba96-45e1-815f-605e9dd3fd06",
   "metadata": {},
   "source": [
    "We can check again for duplicates:"
   ]
  },
  {
   "cell_type": "code",
   "execution_count": null,
   "id": "19a62e3b-3a6c-4a63-8e85-f46771fb86ec",
   "metadata": {
    "executionCancelledAt": null,
    "executionTime": 11,
    "lastExecutedAt": 1703636895639,
    "lastScheduledRunId": null,
    "lastSuccessfullyExecutedCode": "# Check again for duplicates using our subset of columns\n"
   },
   "outputs": [],
   "source": [
    "# Check again for duplicates using our subset of columns\n"
   ]
  },
  {
   "cell_type": "markdown",
   "id": "88e86ba5-c4c4-4604-a15f-b5b582aedd92",
   "metadata": {},
   "source": [
    "## Task 8: Dealing with missing data\n",
    "\n",
    "Before we finish, let's take a look at missing data in our columns. We can use the `.isna()` method and chain it with `.sum()` to get the total:"
   ]
  },
  {
   "cell_type": "code",
   "execution_count": null,
   "id": "cec72ccc-e505-42c7-9591-63fb7c60850b",
   "metadata": {
    "executionCancelledAt": null,
    "executionTime": 11,
    "lastExecutedAt": 1703636898853,
    "lastScheduledRunId": null,
    "lastSuccessfullyExecutedCode": "# Check for null values\n"
   },
   "outputs": [],
   "source": [
    "# Check for null values\n"
   ]
  },
  {
   "cell_type": "markdown",
   "id": "794f5889-ad5d-48f2-8bf0-a9ec802586ca",
   "metadata": {},
   "source": [
    "We could turn the **NaN** values to 0 or another numeric value, or we could keep them. It depends on our use case.\n",
    "\n",
    "If we want to plot the ratings distribution, it can make sense to drop audiobooks with no ratings. But if we need to use the distribution of prices for our analysis, then removing audiobooks with no ratings will bias our results (since unrated audiobooks are likely more niche and might have a different pricing structure than rated audiobooks).\n",
    "\n",
    "We will keep the unrated audiobooks for now."
   ]
  },
  {
   "cell_type": "markdown",
   "id": "1ee82272-cd9b-48d3-b2c3-a961a36153fb",
   "metadata": {},
   "source": [
    "## Task 9: Save the cleaned data set\n",
    "\n",
    "We can use the `.to_csv` method to save the clean file. We include `index=False` so that we don't also copy the current index to our destination file."
   ]
  },
  {
   "cell_type": "code",
   "execution_count": null,
   "id": "025c632b-20ba-4f53-98fc-39897869c447",
   "metadata": {
    "executionCancelledAt": null,
    "executionTime": 11,
    "lastExecutedAt": 1703636903304,
    "lastScheduledRunId": null,
    "lastSuccessfullyExecutedCode": "# Save the dataframe to a new file: 'audible_clean.csv'\n"
   },
   "outputs": [],
   "source": [
    "# Save the dataframe to a new file: 'audible_clean.csv'\n"
   ]
  }
 ],
 "metadata": {
  "editor": "DataCamp Workspace",
  "kernelspec": {
   "display_name": "Python 3 (ipykernel)",
   "language": "python",
   "name": "python3"
  },
  "language_info": {
   "codemirror_mode": {
    "name": "ipython",
    "version": 3
   },
   "file_extension": ".py",
   "mimetype": "text/x-python",
   "name": "python",
   "nbconvert_exporter": "python",
   "pygments_lexer": "ipython3",
   "version": "3.10.9"
  }
 },
 "nbformat": 4,
 "nbformat_minor": 5
}
